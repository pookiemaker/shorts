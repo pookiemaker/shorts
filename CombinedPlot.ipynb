{
 "cells": [
  {
   "cell_type": "code",
   "execution_count": 12,
   "id": "bf1aa768",
   "metadata": {},
   "outputs": [],
   "source": [
    "%matplotlib inline\n",
    "from matplotlib import pyplot as plt\n",
    "import numpy as np\n",
    "import fnmatch\n",
    "import os\n",
    "import pandas as pd\n",
    "import datetime\n",
    "\n",
    "\n",
    "import datetime as dt\n",
    "date_fmt ='%Y%m%d'\n",
    "\n",
    "TICKER = 'GME'\n",
    "MKTCAP = 72e6 # outstanding shares"
   ]
  },
  {
   "cell_type": "code",
   "execution_count": 2,
   "id": "25342ae1",
   "metadata": {},
   "outputs": [],
   "source": [
    "def get_df(sdir, NAME, raw_x, TICKER ):\n",
    "    '''\n",
    "    This function iterates through RegSHO data over a data range and pulls rows for a TICKER and\n",
    "    puts the data into a pandas data frame\n",
    "    a row is as follows. The consolodated daily short data is in the CNMSyyyymmdd.txt file for every trade day\n",
    "    \n",
    "    Date|Symbol|ShortVolume|ShortExemptVolume|TotalVolume|Market\n",
    "    \n",
    "    '''\n",
    "    xxx = []\n",
    "    for shortdate in raw_x:\n",
    "        #print(shortdate)\n",
    "        for file in os.listdir(sdir):\n",
    "            matchme = prefix+str(shortdate)+'*'\n",
    "            if fnmatch.fnmatch(file, matchme):\n",
    "                xxx.append(file)\n",
    "\n",
    "    df = None            \n",
    "\n",
    "\n",
    "    for filename in xxx:\n",
    "        f = open(sdir+filename)\n",
    "        try:\n",
    "            fullfile = pd.read_csv(f,sep=\"|\")\n",
    "            if df is None:\n",
    "                tickerrow = fullfile.loc[fullfile['Symbol'] == TICKER]\n",
    "                df = tickerrow\n",
    "\n",
    "            else:\n",
    "                tickerrow = fullfile.loc[fullfile['Symbol'] == TICKER]\n",
    "                df = df.append(tickerrow)\n",
    "        except:\n",
    "            print('failed: {}'.format(filename))\n",
    "    return df"
   ]
  },
  {
   "cell_type": "code",
   "execution_count": null,
   "id": "f33c4b0e",
   "metadata": {},
   "outputs": [],
   "source": []
  },
  {
   "cell_type": "code",
   "execution_count": 3,
   "id": "91131c6b",
   "metadata": {},
   "outputs": [
    {
     "name": "stdout",
     "output_type": "stream",
     "text": [
      "CNMS\n",
      "FNQC\n",
      "FNRA\n",
      "FNSQ\n",
      "failed: FNSQshvol20101122.txt\n",
      "FNYX\n"
     ]
    }
   ],
   "source": [
    "# Generate dates to pull logs with\n",
    "# We need to convert the Date time to YYYYMMDD as that is the format\n",
    "# dates here are max values that are available. The earliest data I have is 20190102\n",
    "x = pd.date_range(start='20090101',end='20240101',freq='D').strftime('%Y%m%d')\n",
    "\n",
    "# this is the location of where I downloaded the data. REPLACE this with where you have your data \n",
    "sdir =  '/home/pookie/git/shorts/shortvolume/shortdata/'\n",
    "\n",
    "df_dict ={}\n",
    "basenames = ['CNMS','FNQC','FNRA','FNSQ','FNYX']\n",
    "#prefix = 'CNMSshvol' #  B,N,Q \n",
    "#prefix = 'FNQCshvol' #  B** \n",
    "#prefix = 'FNRAshvol' #  D\n",
    "#prefix = 'FNSQshvol' #  Q**\n",
    "#prefix = 'FNYXshvol' #  N**\n",
    "for basename in basenames:\n",
    "    \n",
    "    print(basename)\n",
    "    prefix = basename+'shvol'\n",
    "    sdir =  '/home/pookie/git/shorts/shortvolume/shortdata/'+basename+'/'\n",
    "    df = get_df(sdir, prefix, x, TICKER)\n",
    "    df_dict[basename] = df\n",
    "\n",
    "# might not work. It doesnt. \n",
    "#raw_x = df['Date']\n",
    "#df_dt = [dt.datetime.strptime(str(i), date_fmt) for i in raw_x]\n",
    "\n"
   ]
  },
  {
   "cell_type": "code",
   "execution_count": 4,
   "id": "7c052c43",
   "metadata": {},
   "outputs": [
    {
     "data": {
      "text/plain": [
       "{'CNMS':           Date Symbol  ShortVolume  ShortExemptVolume  TotalVolume Market\n",
       " 3033  20171229    GME     394889.0             6072.0     737033.0    Q,N\n",
       " 2974  20180801    GME     237675.0             1000.0     467132.0    Q,N\n",
       " 2990  20180802    GME     241347.0              300.0     402459.0    Q,N\n",
       " 2993  20180803    GME     725987.0                0.0    1040830.0    Q,N\n",
       " 2980  20180806    GME     508260.0                0.0     776460.0    Q,N\n",
       " ...        ...    ...          ...                ...          ...    ...\n",
       " 4015  20211229    GME     405033.0             3181.0     938619.0  B,Q,N\n",
       " 3992  20211230    GME     217906.0              329.0     634133.0  B,Q,N\n",
       " 4000  20211231    GME     168673.0             4249.0     580237.0  B,Q,N\n",
       " 4039  20220103    GME     178977.0             1848.0     511862.0  B,Q,N\n",
       " 3950  20220104    GME     389661.0              511.0     685935.0  B,Q,N\n",
       " \n",
       " [865 rows x 6 columns],\n",
       " 'FNQC':           Date Symbol  ShortVolume  ShortExemptVolume  TotalVolume Market\n",
       " 593   20190425    GME        200.0                0.0        210.0      B\n",
       " 539   20190426    GME        600.0                0.0        600.0      B\n",
       " 552   20190429    GME        100.0                0.0        625.0      B\n",
       " 1039  20190430    GME        630.0                0.0       1245.0      B\n",
       " 1031  20190501    GME       4660.0                0.0       5940.0      B\n",
       " ...        ...    ...          ...                ...          ...    ...\n",
       " 1305  20211228    GME       8759.0                0.0      12107.0      B\n",
       " 1329  20211229    GME      12385.0                0.0      15164.0      B\n",
       " 1363  20211230    GME       4838.0                0.0       9221.0      B\n",
       " 1196  20211231    GME       2462.0                0.0       4559.0      B\n",
       " 1502  20220103    GME       3748.0                0.0       5996.0      B\n",
       " \n",
       " [677 rows x 6 columns],\n",
       " 'FNRA':           Date Symbol  ShortVolume  TotalVolume Market  ShortExemptVolume\n",
       " 973   20090803    GME       4500.0      15500.0      D                NaN\n",
       " 1196  20090804    GME      11900.0      40200.0      D                NaN\n",
       " 1208  20090805    GME        400.0      84500.0      D                NaN\n",
       " 1183  20090806    GME        700.0       8700.0      D                NaN\n",
       " 1239  20090807    GME       3700.0      14600.0      D                NaN\n",
       " ...        ...    ...          ...          ...    ...                ...\n",
       " 1430  20150126    GME      10216.0      21021.0      D                0.0\n",
       " 1447  20150127    GME       7031.0      25437.0      D                0.0\n",
       " 1486  20150128    GME       3033.0       8215.0      D                0.0\n",
       " 1298  20150129    GME       8651.0      13090.0      D                0.0\n",
       " 1347  20150130    GME      11364.0      15259.0      D                0.0\n",
       " \n",
       " [371 rows x 6 columns],\n",
       " 'FNSQ':           Date Symbol  ShortVolume  TotalVolume Market  ShortExemptVolume\n",
       " 2550  20090803    GME     653181.0    1253961.0      Q                NaN\n",
       " 2539  20090804    GME    1371863.0    2464170.0      Q                NaN\n",
       " 2517  20090805    GME     722108.0    1662159.0      Q                NaN\n",
       " 2509  20090806    GME     481870.0    1073526.0      Q                NaN\n",
       " 2564  20090807    GME     548515.0    1073898.0      Q                NaN\n",
       " ...        ...    ...          ...          ...    ...                ...\n",
       " 3942  20211228    GME     185176.0     424993.0      Q                0.0\n",
       " 3951  20211229    GME     280068.0     627874.0      Q             2383.0\n",
       " 3937  20211230    GME     172058.0     463841.0      Q              329.0\n",
       " 3936  20211231    GME     137532.0     447431.0      Q             3387.0\n",
       " 3966  20220103    GME     158387.0     414886.0      Q             1740.0\n",
       " \n",
       " [3125 rows x 6 columns],\n",
       " 'FNYX':           Date Symbol  ShortVolume  TotalVolume Market  ShortExemptVolume\n",
       " 1199  20090803    GME       2900.0       4000.0      N                NaN\n",
       " 1117  20090804    GME      22140.0      27165.0      N                NaN\n",
       " 1150  20090805    GME       9200.0      16000.0      N                NaN\n",
       " 1142  20090806    GME       9900.0      13304.0      N                NaN\n",
       " 1095  20090807    GME      10300.0      12600.0      N                NaN\n",
       " ...        ...    ...          ...          ...    ...                ...\n",
       " 3221  20211228    GME      50426.0     126633.0      N                0.0\n",
       " 3285  20211229    GME     112580.0     295581.0      N              798.0\n",
       " 3310  20211230    GME      41010.0     161071.0      N                0.0\n",
       " 3297  20211231    GME      28679.0     128247.0      N              862.0\n",
       " 3328  20220103    GME      16842.0      90980.0      N              108.0\n",
       " \n",
       " [2970 rows x 6 columns]}"
      ]
     },
     "execution_count": 4,
     "metadata": {},
     "output_type": "execute_result"
    }
   ],
   "source": [
    "df_dict\n",
    "#plt.plot(df_dt, df_dict['FNRA'])"
   ]
  },
  {
   "cell_type": "code",
   "execution_count": 5,
   "id": "35ac62bd",
   "metadata": {
    "scrolled": false
   },
   "outputs": [
    {
     "name": "stdout",
     "output_type": "stream",
     "text": [
      "CNMS 1\n",
      "success\n",
      "FNQC 2\n",
      "success\n",
      "FNRA 3\n",
      "success\n",
      "FNSQ 4\n",
      "success\n",
      "FNYX 5\n",
      "success\n"
     ]
    },
    {
     "data": {
      "text/plain": [
       "<matplotlib.legend.Legend at 0x7f58db19e8e0>"
      ]
     },
     "execution_count": 5,
     "metadata": {},
     "output_type": "execute_result"
    },
    {
     "data": {
      "image/png": "[encoded data removed]",
      "text/plain": [
       "<Figure size 1080x360 with 1 Axes>"
      ]
     },
     "metadata": {
      "needs_background": "light"
     },
     "output_type": "display_data"
    }
   ],
   "source": [
    "plt.figure(figsize=(15,5))\n",
    "\n",
    "df_list = None\n",
    "idx = 0 \n",
    "for basename in basenames:\n",
    "    idx = idx+1\n",
    "    print(basename,idx)\n",
    "    \n",
    "    try:\n",
    "        print('success')\n",
    "        df_lv = None\n",
    "        df = df_dict[basename]\n",
    "        \n",
    "        df_tv = df['TotalVolume']\n",
    "        df_svn = df['ShortVolume']\n",
    "        df_sve = df['ShortExemptVolume']\n",
    "        df_sv = df_svn + df_sve\n",
    "        df_lv = df_tv - 2*df_sv\n",
    "\n",
    "        c_df_tv = np.cumsum(df_tv)\n",
    "        c_df_sv = np.cumsum(df_sv)\n",
    "        c_df_lv = np.cumsum(df_tv-2*df_sv)\n",
    "\n",
    "        \n",
    "        raw_x = df['Date']\n",
    "        df_dt = [dt.datetime.strptime(str(i), date_fmt) for i in raw_x]\n",
    "\n",
    "        \n",
    "        if df_lv is None:\n",
    "            print('None')\n",
    "        \n",
    "        plt.plot(df_dt,c_df_lv/1e6,label=basename)\n",
    "    except:\n",
    "        print('{}: fail'.format(basename))\n",
    "\n",
    "plt.hlines(y=0, xmin=df_dt[0], xmax=df_dt[-1],color='r')\n",
    "\n",
    "plt.title(' Total Long Volume in millions {}'.format(TICKER))\n",
    "plt.legend()"
   ]
  },
  {
   "cell_type": "markdown",
   "id": "dca57502",
   "metadata": {},
   "source": []
  },
  {
   "cell_type": "code",
   "execution_count": 9,
   "id": "b60ea6d8",
   "metadata": {},
   "outputs": [
    {
     "data": {
      "text/plain": [
       "{'CNMS':           Date Symbol  ShortVolume  ShortExemptVolume  TotalVolume Market\n",
       " 3033  20171229    GME     394889.0             6072.0     737033.0    Q,N\n",
       " 2974  20180801    GME     237675.0             1000.0     467132.0    Q,N\n",
       " 2990  20180802    GME     241347.0              300.0     402459.0    Q,N\n",
       " 2993  20180803    GME     725987.0                0.0    1040830.0    Q,N\n",
       " 2980  20180806    GME     508260.0                0.0     776460.0    Q,N\n",
       " ...        ...    ...          ...                ...          ...    ...\n",
       " 4015  20211229    GME     405033.0             3181.0     938619.0  B,Q,N\n",
       " 3992  20211230    GME     217906.0              329.0     634133.0  B,Q,N\n",
       " 4000  20211231    GME     168673.0             4249.0     580237.0  B,Q,N\n",
       " 4039  20220103    GME     178977.0             1848.0     511862.0  B,Q,N\n",
       " 3950  20220104    GME     389661.0              511.0     685935.0  B,Q,N\n",
       " \n",
       " [865 rows x 6 columns],\n",
       " 'FNQC':           Date Symbol  ShortVolume  ShortExemptVolume  TotalVolume Market\n",
       " 593   20190425    GME        200.0                0.0        210.0      B\n",
       " 539   20190426    GME        600.0                0.0        600.0      B\n",
       " 552   20190429    GME        100.0                0.0        625.0      B\n",
       " 1039  20190430    GME        630.0                0.0       1245.0      B\n",
       " 1031  20190501    GME       4660.0                0.0       5940.0      B\n",
       " ...        ...    ...          ...                ...          ...    ...\n",
       " 1305  20211228    GME       8759.0                0.0      12107.0      B\n",
       " 1329  20211229    GME      12385.0                0.0      15164.0      B\n",
       " 1363  20211230    GME       4838.0                0.0       9221.0      B\n",
       " 1196  20211231    GME       2462.0                0.0       4559.0      B\n",
       " 1502  20220103    GME       3748.0                0.0       5996.0      B\n",
       " \n",
       " [677 rows x 6 columns],\n",
       " 'FNRA':           Date Symbol  ShortVolume  TotalVolume Market  ShortExemptVolume\n",
       " 973   20090803    GME       4500.0      15500.0      D                NaN\n",
       " 1196  20090804    GME      11900.0      40200.0      D                NaN\n",
       " 1208  20090805    GME        400.0      84500.0      D                NaN\n",
       " 1183  20090806    GME        700.0       8700.0      D                NaN\n",
       " 1239  20090807    GME       3700.0      14600.0      D                NaN\n",
       " ...        ...    ...          ...          ...    ...                ...\n",
       " 1430  20150126    GME      10216.0      21021.0      D                0.0\n",
       " 1447  20150127    GME       7031.0      25437.0      D                0.0\n",
       " 1486  20150128    GME       3033.0       8215.0      D                0.0\n",
       " 1298  20150129    GME       8651.0      13090.0      D                0.0\n",
       " 1347  20150130    GME      11364.0      15259.0      D                0.0\n",
       " \n",
       " [371 rows x 6 columns],\n",
       " 'FNSQ':           Date Symbol  ShortVolume  TotalVolume Market  ShortExemptVolume\n",
       " 2550  20090803    GME     653181.0    1253961.0      Q                NaN\n",
       " 2539  20090804    GME    1371863.0    2464170.0      Q                NaN\n",
       " 2517  20090805    GME     722108.0    1662159.0      Q                NaN\n",
       " 2509  20090806    GME     481870.0    1073526.0      Q                NaN\n",
       " 2564  20090807    GME     548515.0    1073898.0      Q                NaN\n",
       " ...        ...    ...          ...          ...    ...                ...\n",
       " 3942  20211228    GME     185176.0     424993.0      Q                0.0\n",
       " 3951  20211229    GME     280068.0     627874.0      Q             2383.0\n",
       " 3937  20211230    GME     172058.0     463841.0      Q              329.0\n",
       " 3936  20211231    GME     137532.0     447431.0      Q             3387.0\n",
       " 3966  20220103    GME     158387.0     414886.0      Q             1740.0\n",
       " \n",
       " [3125 rows x 6 columns],\n",
       " 'FNYX':           Date Symbol  ShortVolume  TotalVolume Market  ShortExemptVolume\n",
       " 1199  20090803    GME       2900.0       4000.0      N                NaN\n",
       " 1117  20090804    GME      22140.0      27165.0      N                NaN\n",
       " 1150  20090805    GME       9200.0      16000.0      N                NaN\n",
       " 1142  20090806    GME       9900.0      13304.0      N                NaN\n",
       " 1095  20090807    GME      10300.0      12600.0      N                NaN\n",
       " ...        ...    ...          ...          ...    ...                ...\n",
       " 3221  20211228    GME      50426.0     126633.0      N                0.0\n",
       " 3285  20211229    GME     112580.0     295581.0      N              798.0\n",
       " 3310  20211230    GME      41010.0     161071.0      N                0.0\n",
       " 3297  20211231    GME      28679.0     128247.0      N              862.0\n",
       " 3328  20220103    GME      16842.0      90980.0      N              108.0\n",
       " \n",
       " [2970 rows x 6 columns]}"
      ]
     },
     "execution_count": 9,
     "metadata": {},
     "output_type": "execute_result"
    }
   ],
   "source": [
    "df_dict"
   ]
  },
  {
   "cell_type": "code",
   "execution_count": 6,
   "id": "7a1dd105",
   "metadata": {},
   "outputs": [
    {
     "data": {
      "text/plain": [
       "<matplotlib.legend.Legend at 0x7f58da8ad880>"
      ]
     },
     "execution_count": 6,
     "metadata": {},
     "output_type": "execute_result"
    },
    {
     "data": {
      "image/png": "[encoded data removed]",
      "text/plain": [
       "<Figure size 1080x360 with 1 Axes>"
      ]
     },
     "metadata": {
      "needs_background": "light"
     },
     "output_type": "display_data"
    }
   ],
   "source": [
    "plt.figure(figsize=(15,5))\n",
    "\n",
    "for basename in basenames:\n",
    "    try:\n",
    "        df = df_dict[basename]\n",
    "        df_tv = df['TotalVolume']\n",
    "        plt.plot(df_dt,df_tv/1e6,label=basename)\n",
    "    except:\n",
    "        pass\n",
    "\n",
    "plt.title(' Total Volume in millions {}'.format(TICKER))\n",
    "plt.legend() "
   ]
  },
  {
   "cell_type": "code",
   "execution_count": 7,
   "id": "5bade8d8",
   "metadata": {},
   "outputs": [],
   "source": [
    "df_dict['CNMS']\n",
    "df = df_dict['CNMS']\n",
    "df_tv = df['TotalVolume']\n",
    "df_svn = df['ShortVolume']\n",
    "df_sve = df['ShortExemptVolume']\n",
    "df_sv = df_svn + df_sve\n",
    "df_lv = df_tv - 2*df_sv\n",
    "\n",
    "c_df_tv = np.cumsum(df_tv)\n",
    "c_df_sv = np.cumsum(df_sv)\n",
    "c_df_lv = np.cumsum(df_tv-2*df_sv)\n",
    "\n",
    "raw_x = df['Date']\n",
    "df_dt = [dt.datetime.strptime(str(i), date_fmt) for i in raw_x]\n"
   ]
  },
  {
   "cell_type": "code",
   "execution_count": 17,
   "id": "096701bb",
   "metadata": {},
   "outputs": [],
   "source": [
    "\n",
    "def saver(dictex,sdir):\n",
    "    for key, val in dictex.items():\n",
    "        val.to_csv(sdir+\"data_{}.csv\".format(str(key)))\n",
    "\n",
    "    with open(sdir+\"keys.txt\", \"w\") as f: #saving keys to file\n",
    "        f.write(str(list(dictex.keys())))\n",
    "\n",
    "def loader(sdir):\n",
    "    \"\"\"Reading data from keys\"\"\"\n",
    "    with open(sdir+\"keys.txt\", \"r\") as f:\n",
    "        keys = eval(f.read())\n",
    "\n",
    "    dictex = {}    \n",
    "    for key in keys:\n",
    "        dictex[key] = pd.read_csv(sdir+\"data_{}.csv\".format(str(key)))\n",
    "\n",
    "    return dictex\n",
    "\n",
    "\n",
    "#dictex = loader()"
   ]
  },
  {
   "cell_type": "code",
   "execution_count": 18,
   "id": "f0bcfe98",
   "metadata": {},
   "outputs": [],
   "source": [
    "saver(df_dict,'.')"
   ]
  },
  {
   "cell_type": "code",
   "execution_count": 19,
   "id": "e7a88a50",
   "metadata": {},
   "outputs": [],
   "source": [
    "df_loaded = loader('.')"
   ]
  },
  {
   "cell_type": "code",
   "execution_count": 22,
   "id": "0f09153d",
   "metadata": {},
   "outputs": [],
   "source": [
    "df = df_loaded['CNMS']"
   ]
  },
  {
   "cell_type": "code",
   "execution_count": 28,
   "id": "e4a480c9",
   "metadata": {},
   "outputs": [],
   "source": [
    "df['NetShort'] = \\\n",
    "    df.TotalVolume - 2*(df.ShortExemptVolume + df.ShortVolume)\n",
    "\n",
    "raw_x = df['Date']\n",
    "df_dt = [dt.datetime.strptime(str(i), date_fmt) for i in raw_x]\n",
    "\n",
    "import numpy as np\n",
    "derp = np.cumsum(df.NetShort)\n"
   ]
  },
  {
   "cell_type": "code",
   "execution_count": 62,
   "id": "1e9ecae3",
   "metadata": {},
   "outputs": [
    {
     "data": {
      "text/plain": [
       "150"
      ]
     },
     "execution_count": 62,
     "metadata": {},
     "output_type": "execute_result"
    }
   ],
   "source": []
  },
  {
   "cell_type": "code",
   "execution_count": 14,
   "id": "6dea246a",
   "metadata": {},
   "outputs": [
    {
     "name": "stdout",
     "output_type": "stream",
     "text": [
      "76350800\n",
      "1004259968\n"
     ]
    }
   ],
   "source": [
    "import yfinance as yf\n",
    "TICK = yf.Ticker('GME').info\n",
    "TOCK = yf.Ticker('TSLA').info\n",
    "print(TICK['sharesOutstanding'])\n",
    "print(TOCK['sharesOutstanding'])\n"
   ]
  },
  {
   "cell_type": "code",
   "execution_count": 58,
   "id": "76f98bdf",
   "metadata": {},
   "outputs": [],
   "source": [
    "DetailedStockInfo = pd.DataFrame.from_dict(TICK,orient='index').T\n",
    "df = pd.DataFrame.from_dict(TOCK, orient='index').T"
   ]
  },
  {
   "cell_type": "code",
   "execution_count": 55,
   "id": "deb83f5c",
   "metadata": {},
   "outputs": [],
   "source": [
    "derp = DetailedStockInfo['sharesOutstanding']"
   ]
  },
  {
   "cell_type": "code",
   "execution_count": 60,
   "id": "7f210d86",
   "metadata": {},
   "outputs": [
    {
     "ename": "TypeError",
     "evalue": "unhashable type: 'list'",
     "output_type": "error",
     "traceback": [
      "\u001b[0;31m---------------------------------------------------------------------------\u001b[0m",
      "\u001b[0;31mTypeError\u001b[0m                                 Traceback (most recent call last)",
      "\u001b[0;32m/tmp/ipykernel_6783/510683809.py\u001b[0m in \u001b[0;36m<module>\u001b[0;34m\u001b[0m\n\u001b[0;32m----> 1\u001b[0;31m \u001b[0mdf\u001b[0m\u001b[0;34m.\u001b[0m\u001b[0mmerge\u001b[0m\u001b[0;34m(\u001b[0m\u001b[0mDetailedStockInfo\u001b[0m\u001b[0;34m)\u001b[0m\u001b[0;34m\u001b[0m\u001b[0;34m\u001b[0m\u001b[0m\n\u001b[0m",
      "\u001b[0;32m~/anaconda3/lib/python3.8/site-packages/pandas/core/frame.py\u001b[0m in \u001b[0;36mmerge\u001b[0;34m(self, right, how, on, left_on, right_on, left_index, right_index, sort, suffixes, copy, indicator, validate)\u001b[0m\n\u001b[1;32m   9184\u001b[0m         \u001b[0;32mfrom\u001b[0m \u001b[0mpandas\u001b[0m\u001b[0;34m.\u001b[0m\u001b[0mcore\u001b[0m\u001b[0;34m.\u001b[0m\u001b[0mreshape\u001b[0m\u001b[0;34m.\u001b[0m\u001b[0mmerge\u001b[0m \u001b[0;32mimport\u001b[0m \u001b[0mmerge\u001b[0m\u001b[0;34m\u001b[0m\u001b[0;34m\u001b[0m\u001b[0m\n\u001b[1;32m   9185\u001b[0m \u001b[0;34m\u001b[0m\u001b[0m\n\u001b[0;32m-> 9186\u001b[0;31m         return merge(\n\u001b[0m\u001b[1;32m   9187\u001b[0m             \u001b[0mself\u001b[0m\u001b[0;34m,\u001b[0m\u001b[0;34m\u001b[0m\u001b[0;34m\u001b[0m\u001b[0m\n\u001b[1;32m   9188\u001b[0m             \u001b[0mright\u001b[0m\u001b[0;34m,\u001b[0m\u001b[0;34m\u001b[0m\u001b[0;34m\u001b[0m\u001b[0m\n",
      "\u001b[0;32m~/anaconda3/lib/python3.8/site-packages/pandas/core/reshape/merge.py\u001b[0m in \u001b[0;36mmerge\u001b[0;34m(left, right, how, on, left_on, right_on, left_index, right_index, sort, suffixes, copy, indicator, validate)\u001b[0m\n\u001b[1;32m    120\u001b[0m         \u001b[0mvalidate\u001b[0m\u001b[0;34m=\u001b[0m\u001b[0mvalidate\u001b[0m\u001b[0;34m,\u001b[0m\u001b[0;34m\u001b[0m\u001b[0;34m\u001b[0m\u001b[0m\n\u001b[1;32m    121\u001b[0m     )\n\u001b[0;32m--> 122\u001b[0;31m     \u001b[0;32mreturn\u001b[0m \u001b[0mop\u001b[0m\u001b[0;34m.\u001b[0m\u001b[0mget_result\u001b[0m\u001b[0;34m(\u001b[0m\u001b[0;34m)\u001b[0m\u001b[0;34m\u001b[0m\u001b[0;34m\u001b[0m\u001b[0m\n\u001b[0m\u001b[1;32m    123\u001b[0m \u001b[0;34m\u001b[0m\u001b[0m\n\u001b[1;32m    124\u001b[0m \u001b[0;34m\u001b[0m\u001b[0m\n",
      "\u001b[0;32m~/anaconda3/lib/python3.8/site-packages/pandas/core/reshape/merge.py\u001b[0m in \u001b[0;36mget_result\u001b[0;34m(self)\u001b[0m\n\u001b[1;32m    714\u001b[0m             \u001b[0mself\u001b[0m\u001b[0;34m.\u001b[0m\u001b[0mleft\u001b[0m\u001b[0;34m,\u001b[0m \u001b[0mself\u001b[0m\u001b[0;34m.\u001b[0m\u001b[0mright\u001b[0m \u001b[0;34m=\u001b[0m \u001b[0mself\u001b[0m\u001b[0;34m.\u001b[0m\u001b[0m_indicator_pre_merge\u001b[0m\u001b[0;34m(\u001b[0m\u001b[0mself\u001b[0m\u001b[0;34m.\u001b[0m\u001b[0mleft\u001b[0m\u001b[0;34m,\u001b[0m \u001b[0mself\u001b[0m\u001b[0;34m.\u001b[0m\u001b[0mright\u001b[0m\u001b[0;34m)\u001b[0m\u001b[0;34m\u001b[0m\u001b[0;34m\u001b[0m\u001b[0m\n\u001b[1;32m    715\u001b[0m \u001b[0;34m\u001b[0m\u001b[0m\n\u001b[0;32m--> 716\u001b[0;31m         \u001b[0mjoin_index\u001b[0m\u001b[0;34m,\u001b[0m \u001b[0mleft_indexer\u001b[0m\u001b[0;34m,\u001b[0m \u001b[0mright_indexer\u001b[0m \u001b[0;34m=\u001b[0m \u001b[0mself\u001b[0m\u001b[0;34m.\u001b[0m\u001b[0m_get_join_info\u001b[0m\u001b[0;34m(\u001b[0m\u001b[0;34m)\u001b[0m\u001b[0;34m\u001b[0m\u001b[0;34m\u001b[0m\u001b[0m\n\u001b[0m\u001b[1;32m    717\u001b[0m \u001b[0;34m\u001b[0m\u001b[0m\n\u001b[1;32m    718\u001b[0m         llabels, rlabels = _items_overlap_with_suffix(\n",
      "\u001b[0;32m~/anaconda3/lib/python3.8/site-packages/pandas/core/reshape/merge.py\u001b[0m in \u001b[0;36m_get_join_info\u001b[0;34m(self)\u001b[0m\n\u001b[1;32m    960\u001b[0m             )\n\u001b[1;32m    961\u001b[0m         \u001b[0;32melse\u001b[0m\u001b[0;34m:\u001b[0m\u001b[0;34m\u001b[0m\u001b[0;34m\u001b[0m\u001b[0m\n\u001b[0;32m--> 962\u001b[0;31m             \u001b[0;34m(\u001b[0m\u001b[0mleft_indexer\u001b[0m\u001b[0;34m,\u001b[0m \u001b[0mright_indexer\u001b[0m\u001b[0;34m)\u001b[0m \u001b[0;34m=\u001b[0m \u001b[0mself\u001b[0m\u001b[0;34m.\u001b[0m\u001b[0m_get_join_indexers\u001b[0m\u001b[0;34m(\u001b[0m\u001b[0;34m)\u001b[0m\u001b[0;34m\u001b[0m\u001b[0;34m\u001b[0m\u001b[0m\n\u001b[0m\u001b[1;32m    963\u001b[0m \u001b[0;34m\u001b[0m\u001b[0m\n\u001b[1;32m    964\u001b[0m             \u001b[0;32mif\u001b[0m \u001b[0mself\u001b[0m\u001b[0;34m.\u001b[0m\u001b[0mright_index\u001b[0m\u001b[0;34m:\u001b[0m\u001b[0;34m\u001b[0m\u001b[0;34m\u001b[0m\u001b[0m\n",
      "\u001b[0;32m~/anaconda3/lib/python3.8/site-packages/pandas/core/reshape/merge.py\u001b[0m in \u001b[0;36m_get_join_indexers\u001b[0;34m(self)\u001b[0m\n\u001b[1;32m    934\u001b[0m         \u001b[0;34m\"\"\"return the join indexers\"\"\"\u001b[0m\u001b[0;34m\u001b[0m\u001b[0;34m\u001b[0m\u001b[0m\n\u001b[1;32m    935\u001b[0m         \u001b[0;31m# Both returned ndarrays are np.intp\u001b[0m\u001b[0;34m\u001b[0m\u001b[0;34m\u001b[0m\u001b[0;34m\u001b[0m\u001b[0m\n\u001b[0;32m--> 936\u001b[0;31m         return get_join_indexers(\n\u001b[0m\u001b[1;32m    937\u001b[0m             \u001b[0mself\u001b[0m\u001b[0;34m.\u001b[0m\u001b[0mleft_join_keys\u001b[0m\u001b[0;34m,\u001b[0m \u001b[0mself\u001b[0m\u001b[0;34m.\u001b[0m\u001b[0mright_join_keys\u001b[0m\u001b[0;34m,\u001b[0m \u001b[0msort\u001b[0m\u001b[0;34m=\u001b[0m\u001b[0mself\u001b[0m\u001b[0;34m.\u001b[0m\u001b[0msort\u001b[0m\u001b[0;34m,\u001b[0m \u001b[0mhow\u001b[0m\u001b[0;34m=\u001b[0m\u001b[0mself\u001b[0m\u001b[0;34m.\u001b[0m\u001b[0mhow\u001b[0m\u001b[0;34m\u001b[0m\u001b[0;34m\u001b[0m\u001b[0m\n\u001b[1;32m    938\u001b[0m         )\n",
      "\u001b[0;32m~/anaconda3/lib/python3.8/site-packages/pandas/core/reshape/merge.py\u001b[0m in \u001b[0;36mget_join_indexers\u001b[0;34m(left_keys, right_keys, sort, how, **kwargs)\u001b[0m\n\u001b[1;32m   1475\u001b[0m         \u001b[0;32mfor\u001b[0m \u001b[0mn\u001b[0m \u001b[0;32min\u001b[0m \u001b[0mrange\u001b[0m\u001b[0;34m(\u001b[0m\u001b[0mlen\u001b[0m\u001b[0;34m(\u001b[0m\u001b[0mleft_keys\u001b[0m\u001b[0;34m)\u001b[0m\u001b[0;34m)\u001b[0m\u001b[0;34m\u001b[0m\u001b[0;34m\u001b[0m\u001b[0m\n\u001b[1;32m   1476\u001b[0m     )\n\u001b[0;32m-> 1477\u001b[0;31m     \u001b[0mzipped\u001b[0m \u001b[0;34m=\u001b[0m \u001b[0mzip\u001b[0m\u001b[0;34m(\u001b[0m\u001b[0;34m*\u001b[0m\u001b[0mmapped\u001b[0m\u001b[0;34m)\u001b[0m\u001b[0;34m\u001b[0m\u001b[0;34m\u001b[0m\u001b[0m\n\u001b[0m\u001b[1;32m   1478\u001b[0m     \u001b[0mllab\u001b[0m\u001b[0;34m,\u001b[0m \u001b[0mrlab\u001b[0m\u001b[0;34m,\u001b[0m \u001b[0mshape\u001b[0m \u001b[0;34m=\u001b[0m \u001b[0;34m(\u001b[0m\u001b[0mlist\u001b[0m\u001b[0;34m(\u001b[0m\u001b[0mx\u001b[0m\u001b[0;34m)\u001b[0m \u001b[0;32mfor\u001b[0m \u001b[0mx\u001b[0m \u001b[0;32min\u001b[0m \u001b[0mzipped\u001b[0m\u001b[0;34m)\u001b[0m\u001b[0;34m\u001b[0m\u001b[0;34m\u001b[0m\u001b[0m\n\u001b[1;32m   1479\u001b[0m \u001b[0;34m\u001b[0m\u001b[0m\n",
      "\u001b[0;32m~/anaconda3/lib/python3.8/site-packages/pandas/core/reshape/merge.py\u001b[0m in \u001b[0;36m<genexpr>\u001b[0;34m(.0)\u001b[0m\n\u001b[1;32m   1472\u001b[0m     \u001b[0;31m# get left & right join labels and num. of levels at each location\u001b[0m\u001b[0;34m\u001b[0m\u001b[0;34m\u001b[0m\u001b[0;34m\u001b[0m\u001b[0m\n\u001b[1;32m   1473\u001b[0m     mapped = (\n\u001b[0;32m-> 1474\u001b[0;31m         \u001b[0m_factorize_keys\u001b[0m\u001b[0;34m(\u001b[0m\u001b[0mleft_keys\u001b[0m\u001b[0;34m[\u001b[0m\u001b[0mn\u001b[0m\u001b[0;34m]\u001b[0m\u001b[0;34m,\u001b[0m \u001b[0mright_keys\u001b[0m\u001b[0;34m[\u001b[0m\u001b[0mn\u001b[0m\u001b[0;34m]\u001b[0m\u001b[0;34m,\u001b[0m \u001b[0msort\u001b[0m\u001b[0;34m=\u001b[0m\u001b[0msort\u001b[0m\u001b[0;34m,\u001b[0m \u001b[0mhow\u001b[0m\u001b[0;34m=\u001b[0m\u001b[0mhow\u001b[0m\u001b[0;34m)\u001b[0m\u001b[0;34m\u001b[0m\u001b[0;34m\u001b[0m\u001b[0m\n\u001b[0m\u001b[1;32m   1475\u001b[0m         \u001b[0;32mfor\u001b[0m \u001b[0mn\u001b[0m \u001b[0;32min\u001b[0m \u001b[0mrange\u001b[0m\u001b[0;34m(\u001b[0m\u001b[0mlen\u001b[0m\u001b[0;34m(\u001b[0m\u001b[0mleft_keys\u001b[0m\u001b[0;34m)\u001b[0m\u001b[0;34m)\u001b[0m\u001b[0;34m\u001b[0m\u001b[0;34m\u001b[0m\u001b[0m\n\u001b[1;32m   1476\u001b[0m     )\n",
      "\u001b[0;32m~/anaconda3/lib/python3.8/site-packages/pandas/core/reshape/merge.py\u001b[0m in \u001b[0;36m_factorize_keys\u001b[0;34m(lk, rk, sort, how)\u001b[0m\n\u001b[1;32m   2174\u001b[0m     \u001b[0mrizer\u001b[0m \u001b[0;34m=\u001b[0m \u001b[0mklass\u001b[0m\u001b[0;34m(\u001b[0m\u001b[0mmax\u001b[0m\u001b[0;34m(\u001b[0m\u001b[0mlen\u001b[0m\u001b[0;34m(\u001b[0m\u001b[0mlk\u001b[0m\u001b[0;34m)\u001b[0m\u001b[0;34m,\u001b[0m \u001b[0mlen\u001b[0m\u001b[0;34m(\u001b[0m\u001b[0mrk\u001b[0m\u001b[0;34m)\u001b[0m\u001b[0;34m)\u001b[0m\u001b[0;34m)\u001b[0m\u001b[0;34m\u001b[0m\u001b[0;34m\u001b[0m\u001b[0m\n\u001b[1;32m   2175\u001b[0m \u001b[0;34m\u001b[0m\u001b[0m\n\u001b[0;32m-> 2176\u001b[0;31m     \u001b[0mllab\u001b[0m \u001b[0;34m=\u001b[0m \u001b[0mrizer\u001b[0m\u001b[0;34m.\u001b[0m\u001b[0mfactorize\u001b[0m\u001b[0;34m(\u001b[0m\u001b[0mlk\u001b[0m\u001b[0;34m)\u001b[0m\u001b[0;34m\u001b[0m\u001b[0;34m\u001b[0m\u001b[0m\n\u001b[0m\u001b[1;32m   2177\u001b[0m     \u001b[0mrlab\u001b[0m \u001b[0;34m=\u001b[0m \u001b[0mrizer\u001b[0m\u001b[0;34m.\u001b[0m\u001b[0mfactorize\u001b[0m\u001b[0;34m(\u001b[0m\u001b[0mrk\u001b[0m\u001b[0;34m)\u001b[0m\u001b[0;34m\u001b[0m\u001b[0;34m\u001b[0m\u001b[0m\n\u001b[1;32m   2178\u001b[0m     \u001b[0;32massert\u001b[0m \u001b[0mllab\u001b[0m\u001b[0;34m.\u001b[0m\u001b[0mdtype\u001b[0m \u001b[0;34m==\u001b[0m \u001b[0mnp\u001b[0m\u001b[0;34m.\u001b[0m\u001b[0mintp\u001b[0m\u001b[0;34m,\u001b[0m \u001b[0mllab\u001b[0m\u001b[0;34m.\u001b[0m\u001b[0mdtype\u001b[0m\u001b[0;34m\u001b[0m\u001b[0;34m\u001b[0m\u001b[0m\n",
      "\u001b[0;32m~/anaconda3/lib/python3.8/site-packages/pandas/_libs/hashtable.pyx\u001b[0m in \u001b[0;36mpandas._libs.hashtable.ObjectFactorizer.factorize\u001b[0;34m()\u001b[0m\n",
      "\u001b[0;32mpandas/_libs/hashtable_class_helper.pxi\u001b[0m in \u001b[0;36mpandas._libs.hashtable.PyObjectHashTable.get_labels\u001b[0;34m()\u001b[0m\n",
      "\u001b[0;32mpandas/_libs/hashtable_class_helper.pxi\u001b[0m in \u001b[0;36mpandas._libs.hashtable.PyObjectHashTable._unique\u001b[0;34m()\u001b[0m\n",
      "\u001b[0;31mTypeError\u001b[0m: unhashable type: 'list'"
     ]
    }
   ],
   "source": [
    "df.merge(DetailedStockInfo)"
   ]
  },
  {
   "cell_type": "code",
   "execution_count": 64,
   "id": "fde93d50",
   "metadata": {},
   "outputs": [],
   "source": [
    "def saver(dictex,sdir):\n",
    "    sdir = sdir+'/'\n",
    "    for key, val in dictex.items():\n",
    "        val.to_csv(sdir+\"data_{}.csv\".format(str(key)))\n",
    "\n",
    "    with open(sdir+\"keys.txt\", \"w\") as f: #saving keys to file\n",
    "        f.write(str(list(dictex.keys())))\n",
    "\n",
    "def loader(sdir):\n",
    "    \"\"\"Reading data from keys\"\"\"\n",
    "    with open(sdir+\"keys.txt\", \"r\") as f:\n",
    "        keys = eval(f.read())\n",
    "\n",
    "    dictex = {}\n",
    "    for key in keys:\n",
    "        dictex[key] = pd.read_csv(sdir+\"data_{}.csv\".format(str(key)))\n",
    "\n",
    "    return dictex\n"
   ]
  },
  {
   "cell_type": "code",
   "execution_count": 66,
   "id": "c753586c",
   "metadata": {
    "scrolled": true
   },
   "outputs": [
    {
     "ename": "AttributeError",
     "evalue": "'str' object has no attribute 'to_csv'",
     "output_type": "error",
     "traceback": [
      "\u001b[0;31m---------------------------------------------------------------------------\u001b[0m",
      "\u001b[0;31mAttributeError\u001b[0m                            Traceback (most recent call last)",
      "\u001b[0;32m/tmp/ipykernel_6783/2438321002.py\u001b[0m in \u001b[0;36m<module>\u001b[0;34m\u001b[0m\n\u001b[0;32m----> 1\u001b[0;31m \u001b[0msaver\u001b[0m\u001b[0;34m(\u001b[0m\u001b[0mTICK\u001b[0m\u001b[0;34m,\u001b[0m\u001b[0;34m'.'\u001b[0m\u001b[0;34m)\u001b[0m\u001b[0;34m\u001b[0m\u001b[0;34m\u001b[0m\u001b[0m\n\u001b[0m",
      "\u001b[0;32m/tmp/ipykernel_6783/2471327149.py\u001b[0m in \u001b[0;36msaver\u001b[0;34m(dictex, sdir)\u001b[0m\n\u001b[1;32m      2\u001b[0m     \u001b[0msdir\u001b[0m \u001b[0;34m=\u001b[0m \u001b[0msdir\u001b[0m\u001b[0;34m+\u001b[0m\u001b[0;34m'/'\u001b[0m\u001b[0;34m\u001b[0m\u001b[0;34m\u001b[0m\u001b[0m\n\u001b[1;32m      3\u001b[0m     \u001b[0;32mfor\u001b[0m \u001b[0mkey\u001b[0m\u001b[0;34m,\u001b[0m \u001b[0mval\u001b[0m \u001b[0;32min\u001b[0m \u001b[0mdictex\u001b[0m\u001b[0;34m.\u001b[0m\u001b[0mitems\u001b[0m\u001b[0;34m(\u001b[0m\u001b[0;34m)\u001b[0m\u001b[0;34m:\u001b[0m\u001b[0;34m\u001b[0m\u001b[0;34m\u001b[0m\u001b[0m\n\u001b[0;32m----> 4\u001b[0;31m         \u001b[0mval\u001b[0m\u001b[0;34m.\u001b[0m\u001b[0mto_csv\u001b[0m\u001b[0;34m(\u001b[0m\u001b[0msdir\u001b[0m\u001b[0;34m+\u001b[0m\u001b[0;34m\"data_{}.csv\"\u001b[0m\u001b[0;34m.\u001b[0m\u001b[0mformat\u001b[0m\u001b[0;34m(\u001b[0m\u001b[0mstr\u001b[0m\u001b[0;34m(\u001b[0m\u001b[0mkey\u001b[0m\u001b[0;34m)\u001b[0m\u001b[0;34m)\u001b[0m\u001b[0;34m)\u001b[0m\u001b[0;34m\u001b[0m\u001b[0;34m\u001b[0m\u001b[0m\n\u001b[0m\u001b[1;32m      5\u001b[0m \u001b[0;34m\u001b[0m\u001b[0m\n\u001b[1;32m      6\u001b[0m     \u001b[0;32mwith\u001b[0m \u001b[0mopen\u001b[0m\u001b[0;34m(\u001b[0m\u001b[0msdir\u001b[0m\u001b[0;34m+\u001b[0m\u001b[0;34m\"keys.txt\"\u001b[0m\u001b[0;34m,\u001b[0m \u001b[0;34m\"w\"\u001b[0m\u001b[0;34m)\u001b[0m \u001b[0;32mas\u001b[0m \u001b[0mf\u001b[0m\u001b[0;34m:\u001b[0m \u001b[0;31m#saving keys to file\u001b[0m\u001b[0;34m\u001b[0m\u001b[0;34m\u001b[0m\u001b[0m\n",
      "\u001b[0;31mAttributeError\u001b[0m: 'str' object has no attribute 'to_csv'"
     ]
    }
   ],
   "source": [
    "saver(TICK,'.')"
   ]
  },
  {
   "cell_type": "code",
   "execution_count": 68,
   "id": "c162168a",
   "metadata": {},
   "outputs": [
    {
     "name": "stdout",
     "output_type": "stream",
     "text": [
      "zip 76051\n",
      "sector Consumer Cyclical\n",
      "fullTimeEmployees 12000\n",
      "longBusinessSummary GameStop Corp., a specialty retailer, provides games and entertainment products through its e-commerce properties and various stores in the United States, Canada, Australia, and Europe. The company sells new and pre-owned video game platforms; accessories, such as controllers, gaming headsets, virtual reality products, and memory cards; new and pre-owned video game software; and in-game digital currency, digital downloadable content, and full-game downloads, as well as network points cards, and prepaid digital and subscription cards. It also sells collectibles comprising licensed merchandise primarily related to the video game, television, and movie industries, as well as pop culture themes. The company operates its stores and e-commerce sites under the GameStop, EB Games, and Micromania brands; and collectibles stores under the Zing Pop Culture and ThinkGeek brand, as well as offers Game Informer, a print and digital video game publication featuring reviews of new title releases, game tips, and news regarding the video game industry. As of January 30, 2021, it operated 4,816 stores. The company was formerly known as GSC Holdings Corp. GameStop Corp. was founded in 1996 and is headquartered in Grapevine, Texas.\n",
      "city Grapevine\n",
      "phone 817 424 2000\n",
      "state TX\n",
      "country United States\n",
      "companyOfficers []\n",
      "website https://www.gamestop.com\n",
      "maxAge 1\n",
      "address1 625 Westport Parkway\n",
      "industry Specialty Retail\n",
      "ebitdaMargins -0.01626\n",
      "profitMargins -0.026080001\n",
      "grossMargins 0.24123\n",
      "operatingCashflow -159200000\n",
      "revenueGrowth 0.291\n",
      "operatingMargins -0.02864\n",
      "ebitda -95600000\n",
      "targetLowPrice 24\n",
      "recommendationKey underperform\n",
      "grossProfits 1259500000\n",
      "freeCashflow -168137504\n",
      "targetMedianPrice 45\n",
      "currentPrice 129.37\n",
      "earningsGrowth None\n",
      "currentRatio 1.9\n",
      "returnOnAssets -0.03308\n",
      "numberOfAnalystOpinions 3\n",
      "targetMeanPrice 83\n",
      "debtToEquity 38.053\n",
      "returnOnEquity -0.14709\n",
      "targetHighPrice 180\n",
      "totalCash 1412999936\n",
      "totalDebt 667800000\n",
      "totalRevenue 5878900224\n",
      "totalCashPerShare 18.604\n",
      "financialCurrency USD\n",
      "revenuePerShare 84.044\n",
      "quickRatio 1.079\n",
      "recommendationMean 4\n",
      "exchange NYQ\n",
      "shortName GameStop Corporation\n",
      "longName GameStop Corp.\n",
      "exchangeTimezoneName America/New_York\n",
      "exchangeTimezoneShortName EST\n",
      "isEsgPopulated False\n",
      "gmtOffSetMilliseconds -18000000\n",
      "quoteType EQUITY\n",
      "symbol GME\n",
      "messageBoardId finmb_1342560\n",
      "market us_market\n",
      "annualHoldingsTurnover None\n",
      "enterpriseToRevenue 1.797\n",
      "beta3Year None\n",
      "enterpriseToEbitda -110.509\n",
      "52WeekChange 7.110566\n",
      "morningStarRiskRating None\n",
      "forwardEps -0.82\n",
      "revenueQuarterlyGrowth None\n",
      "sharesOutstanding 76350800\n",
      "fundInceptionDate None\n",
      "annualReportExpenseRatio None\n",
      "totalAssets None\n",
      "bookValue 23.244\n",
      "sharesShort 8611843\n",
      "sharesPercentSharesOut 0.112799995\n",
      "fundFamily None\n",
      "lastFiscalYearEnd 1611964800\n",
      "heldPercentInstitutions 0.28408\n",
      "netIncomeToCommon -153500000\n",
      "trailingEps -2.194\n",
      "lastDividendValue 0.38\n",
      "SandP52WeekChange 0.2789117\n",
      "priceToBook 5.5657372\n",
      "heldPercentInsiders 0.17981\n",
      "nextFiscalYearEnd 1675036800\n",
      "yield None\n",
      "mostRecentQuarter 1635552000\n",
      "shortRatio 3.11\n",
      "sharesShortPreviousMonthDate 1636934400\n",
      "floatShares 62490784\n",
      "beta -1.902857\n",
      "enterpriseValue 10564630528\n",
      "priceHint 2\n",
      "threeYearAverageReturn None\n",
      "lastSplitDate 1174262400\n",
      "lastSplitFactor 2:1\n",
      "legalType None\n",
      "lastDividendDate 1552521600\n",
      "morningStarOverallRating None\n",
      "earningsQuarterlyGrowth None\n",
      "priceToSalesTrailing12Months 1.6801617\n",
      "dateShortInterest 1639526400\n",
      "pegRatio 1.79\n",
      "ytdReturn None\n",
      "forwardPE -157.7683\n",
      "lastCapGain None\n",
      "shortPercentOfFloat 0.1857\n",
      "sharesShortPriorMonth 6775394\n",
      "impliedSharesOutstanding 76491504\n",
      "category None\n",
      "fiveYearAverageReturn None\n",
      "previousClose 148.91\n",
      "regularMarketOpen 148.39\n",
      "twoHundredDayAverage 185.48524\n",
      "trailingAnnualDividendYield 0\n",
      "payoutRatio 0\n",
      "volume24Hr None\n",
      "regularMarketDayHigh 148.85\n",
      "navPrice None\n",
      "averageDailyVolume10Day 1471390\n",
      "regularMarketPreviousClose 148.91\n",
      "fiftyDayAverage 181.8308\n",
      "trailingAnnualDividendRate 0\n",
      "open 148.39\n",
      "toCurrency None\n",
      "averageVolume10days 1471390\n",
      "expireDate None\n",
      "algorithm None\n",
      "dividendRate None\n",
      "exDividendDate 1552521600\n",
      "circulatingSupply None\n",
      "startDate None\n",
      "regularMarketDayLow 129.1501\n",
      "currency USD\n",
      "regularMarketVolume 3341711\n",
      "lastMarket None\n",
      "maxSupply None\n",
      "openInterest None\n",
      "marketCap 9877502976\n",
      "volumeAllCurrencies None\n",
      "strikePrice None\n",
      "averageVolume 2345493\n",
      "dayLow 129.1501\n",
      "ask 132.01\n",
      "askSize 1800\n",
      "volume 3341711\n",
      "fiftyTwoWeekHigh 483\n",
      "fromCurrency None\n",
      "fiveYearAvgDividendYield None\n",
      "fiftyTwoWeekLow 17.08\n",
      "bid 132\n",
      "tradeable False\n",
      "dividendYield None\n",
      "bidSize 1400\n",
      "dayHigh 148.85\n",
      "regularMarketPrice 129.37\n",
      "logo_url https://logo.clearbit.com/gamestop.com\n"
     ]
    }
   ],
   "source": [
    "for key, val in TICK.items():\n",
    "    print(key,val)"
   ]
  },
  {
   "cell_type": "code",
   "execution_count": 74,
   "id": "53b0c8a7",
   "metadata": {},
   "outputs": [
    {
     "name": "stdout",
     "output_type": "stream",
     "text": [
      "GME\n",
      "Error GME\n"
     ]
    }
   ],
   "source": [
    "DetailedStockInfo  = None\n",
    "symbol = 'GME'\n",
    "print(symbol)\n",
    "try:\n",
    "    # download the stock price\n",
    "    TICK = yf.Ticker(symbol).info\n",
    "    DetailedStockInfo = DetailedStockInfo(TICK)\n",
    "    print(DetailedStockInfo.head())\n",
    "except Exception:\n",
    "    print('Error {}'.format(symbol))\n",
    "\n",
    "DetailedStockInfo\n",
    "#DetailedStockInfo.to_csv(f, mode='a', header = True )"
   ]
  },
  {
   "cell_type": "code",
   "execution_count": 13,
   "id": "b953abf8",
   "metadata": {},
   "outputs": [
    {
     "ename": "NameError",
     "evalue": "name 'yf' is not defined",
     "output_type": "error",
     "traceback": [
      "\u001b[0;31m---------------------------------------------------------------------------\u001b[0m",
      "\u001b[0;31mNameError\u001b[0m                                 Traceback (most recent call last)",
      "\u001b[0;32m/tmp/ipykernel_11062/3658817316.py\u001b[0m in \u001b[0;36m<module>\u001b[0;34m\u001b[0m\n\u001b[0;32m----> 1\u001b[0;31m \u001b[0mTICK\u001b[0m \u001b[0;34m=\u001b[0m \u001b[0myf\u001b[0m\u001b[0;34m.\u001b[0m\u001b[0mTicker\u001b[0m\u001b[0;34m(\u001b[0m\u001b[0msymbol\u001b[0m\u001b[0;34m)\u001b[0m\u001b[0;34m.\u001b[0m\u001b[0minfo\u001b[0m\u001b[0;34m\u001b[0m\u001b[0;34m\u001b[0m\u001b[0m\n\u001b[0m",
      "\u001b[0;31mNameError\u001b[0m: name 'yf' is not defined"
     ]
    }
   ],
   "source": [
    "TICK = yf.Ticker(symbol).info\n"
   ]
  },
  {
   "cell_type": "code",
   "execution_count": 78,
   "id": "812a7fa7",
   "metadata": {},
   "outputs": [
    {
     "data": {
      "text/html": [
       "<div>\n",
       "<style scoped>\n",
       "    .dataframe tbody tr th:only-of-type {\n",
       "        vertical-align: middle;\n",
       "    }\n",
       "\n",
       "    .dataframe tbody tr th {\n",
       "        vertical-align: top;\n",
       "    }\n",
       "\n",
       "    .dataframe thead th {\n",
       "        text-align: right;\n",
       "    }\n",
       "</style>\n",
       "<table border=\"1\" class=\"dataframe\">\n",
       "  <thead>\n",
       "    <tr style=\"text-align: right;\">\n",
       "      <th></th>\n",
       "      <th>zip</th>\n",
       "      <th>sector</th>\n",
       "      <th>fullTimeEmployees</th>\n",
       "      <th>longBusinessSummary</th>\n",
       "      <th>city</th>\n",
       "      <th>phone</th>\n",
       "      <th>state</th>\n",
       "      <th>country</th>\n",
       "      <th>companyOfficers</th>\n",
       "      <th>website</th>\n",
       "      <th>...</th>\n",
       "      <th>fromCurrency</th>\n",
       "      <th>fiveYearAvgDividendYield</th>\n",
       "      <th>fiftyTwoWeekLow</th>\n",
       "      <th>bid</th>\n",
       "      <th>tradeable</th>\n",
       "      <th>dividendYield</th>\n",
       "      <th>bidSize</th>\n",
       "      <th>dayHigh</th>\n",
       "      <th>regularMarketPrice</th>\n",
       "      <th>logo_url</th>\n",
       "    </tr>\n",
       "  </thead>\n",
       "  <tbody>\n",
       "  </tbody>\n",
       "</table>\n",
       "<p>0 rows × 150 columns</p>\n",
       "</div>"
      ],
      "text/plain": [
       "Empty DataFrame\n",
       "Columns: [zip, sector, fullTimeEmployees, longBusinessSummary, city, phone, state, country, companyOfficers, website, maxAge, address1, industry, ebitdaMargins, profitMargins, grossMargins, operatingCashflow, revenueGrowth, operatingMargins, ebitda, targetLowPrice, recommendationKey, grossProfits, freeCashflow, targetMedianPrice, currentPrice, earningsGrowth, currentRatio, returnOnAssets, numberOfAnalystOpinions, targetMeanPrice, debtToEquity, returnOnEquity, targetHighPrice, totalCash, totalDebt, totalRevenue, totalCashPerShare, financialCurrency, revenuePerShare, quickRatio, recommendationMean, exchange, shortName, longName, exchangeTimezoneName, exchangeTimezoneShortName, isEsgPopulated, gmtOffSetMilliseconds, quoteType, symbol, messageBoardId, market, annualHoldingsTurnover, enterpriseToRevenue, beta3Year, enterpriseToEbitda, 52WeekChange, morningStarRiskRating, forwardEps, revenueQuarterlyGrowth, sharesOutstanding, fundInceptionDate, annualReportExpenseRatio, totalAssets, bookValue, sharesShort, sharesPercentSharesOut, fundFamily, lastFiscalYearEnd, heldPercentInstitutions, netIncomeToCommon, trailingEps, lastDividendValue, SandP52WeekChange, priceToBook, heldPercentInsiders, nextFiscalYearEnd, yield, mostRecentQuarter, shortRatio, sharesShortPreviousMonthDate, floatShares, beta, enterpriseValue, priceHint, threeYearAverageReturn, lastSplitDate, lastSplitFactor, legalType, lastDividendDate, morningStarOverallRating, earningsQuarterlyGrowth, priceToSalesTrailing12Months, dateShortInterest, pegRatio, ytdReturn, forwardPE, lastCapGain, shortPercentOfFloat, ...]\n",
       "Index: []\n",
       "\n",
       "[0 rows x 150 columns]"
      ]
     },
     "execution_count": 78,
     "metadata": {},
     "output_type": "execute_result"
    }
   ],
   "source": [
    "df = pd.DataFrame(TICK)\n",
    "df"
   ]
  },
  {
   "cell_type": "code",
   "execution_count": 79,
   "id": "0a148208",
   "metadata": {},
   "outputs": [],
   "source": [
    "df = pd.DataFrame.from_dict(TOCK, orient='index').T"
   ]
  },
  {
   "cell_type": "code",
   "execution_count": 80,
   "id": "d43f6254",
   "metadata": {},
   "outputs": [
    {
     "data": {
      "text/html": [
       "<div>\n",
       "<style scoped>\n",
       "    .dataframe tbody tr th:only-of-type {\n",
       "        vertical-align: middle;\n",
       "    }\n",
       "\n",
       "    .dataframe tbody tr th {\n",
       "        vertical-align: top;\n",
       "    }\n",
       "\n",
       "    .dataframe thead th {\n",
       "        text-align: right;\n",
       "    }\n",
       "</style>\n",
       "<table border=\"1\" class=\"dataframe\">\n",
       "  <thead>\n",
       "    <tr style=\"text-align: right;\">\n",
       "      <th></th>\n",
       "      <th>zip</th>\n",
       "      <th>sector</th>\n",
       "      <th>fullTimeEmployees</th>\n",
       "      <th>longBusinessSummary</th>\n",
       "      <th>city</th>\n",
       "      <th>phone</th>\n",
       "      <th>state</th>\n",
       "      <th>country</th>\n",
       "      <th>companyOfficers</th>\n",
       "      <th>website</th>\n",
       "      <th>...</th>\n",
       "      <th>fromCurrency</th>\n",
       "      <th>fiveYearAvgDividendYield</th>\n",
       "      <th>fiftyTwoWeekLow</th>\n",
       "      <th>bid</th>\n",
       "      <th>tradeable</th>\n",
       "      <th>dividendYield</th>\n",
       "      <th>bidSize</th>\n",
       "      <th>dayHigh</th>\n",
       "      <th>regularMarketPrice</th>\n",
       "      <th>logo_url</th>\n",
       "    </tr>\n",
       "  </thead>\n",
       "  <tbody>\n",
       "    <tr>\n",
       "      <th>0</th>\n",
       "      <td>78725</td>\n",
       "      <td>Consumer Cyclical</td>\n",
       "      <td>70757</td>\n",
       "      <td>Tesla, Inc. designs, develops, manufactures, l...</td>\n",
       "      <td>Austin</td>\n",
       "      <td>650-681-5000</td>\n",
       "      <td>TX</td>\n",
       "      <td>United States</td>\n",
       "      <td>[]</td>\n",
       "      <td>https://www.tesla.com</td>\n",
       "      <td>...</td>\n",
       "      <td>None</td>\n",
       "      <td>None</td>\n",
       "      <td>539.49</td>\n",
       "      <td>1090.81</td>\n",
       "      <td>False</td>\n",
       "      <td>None</td>\n",
       "      <td>1400</td>\n",
       "      <td>1170.34</td>\n",
       "      <td>1088.12</td>\n",
       "      <td>https://logo.clearbit.com/tesla.com</td>\n",
       "    </tr>\n",
       "  </tbody>\n",
       "</table>\n",
       "<p>1 rows × 151 columns</p>\n",
       "</div>"
      ],
      "text/plain": [
       "     zip             sector fullTimeEmployees  \\\n",
       "0  78725  Consumer Cyclical             70757   \n",
       "\n",
       "                                 longBusinessSummary    city         phone  \\\n",
       "0  Tesla, Inc. designs, develops, manufactures, l...  Austin  650-681-5000   \n",
       "\n",
       "  state        country companyOfficers                website  ...  \\\n",
       "0    TX  United States              []  https://www.tesla.com  ...   \n",
       "\n",
       "  fromCurrency fiveYearAvgDividendYield fiftyTwoWeekLow      bid tradeable  \\\n",
       "0         None                     None          539.49  1090.81     False   \n",
       "\n",
       "  dividendYield bidSize  dayHigh regularMarketPrice  \\\n",
       "0          None    1400  1170.34            1088.12   \n",
       "\n",
       "                              logo_url  \n",
       "0  https://logo.clearbit.com/tesla.com  \n",
       "\n",
       "[1 rows x 151 columns]"
      ]
     },
     "execution_count": 80,
     "metadata": {},
     "output_type": "execute_result"
    }
   ],
   "source": [
    "df"
   ]
  },
  {
   "cell_type": "code",
   "execution_count": 83,
   "id": "3c141cd2",
   "metadata": {},
   "outputs": [],
   "source": [
    "df.to_csv('notes/derp.csv')"
   ]
  },
  {
   "cell_type": "code",
   "execution_count": 84,
   "id": "a496aa41",
   "metadata": {},
   "outputs": [
    {
     "data": {
      "text/plain": [
       "'/home/pookie/git/shorts'"
      ]
     },
     "execution_count": 84,
     "metadata": {},
     "output_type": "execute_result"
    }
   ],
   "source": [
    "pwd"
   ]
  },
  {
   "cell_type": "code",
   "execution_count": 1,
   "id": "e5c89192",
   "metadata": {},
   "outputs": [
    {
     "ename": "NameError",
     "evalue": "name 'dt' is not defined",
     "output_type": "error",
     "traceback": [
      "\u001b[0;31m---------------------------------------------------------------------------\u001b[0m",
      "\u001b[0;31mNameError\u001b[0m                                 Traceback (most recent call last)",
      "\u001b[0;32m/tmp/ipykernel_11062/284321914.py\u001b[0m in \u001b[0;36m<module>\u001b[0;34m\u001b[0m\n\u001b[0;32m----> 1\u001b[0;31m \u001b[0mdt\u001b[0m\u001b[0;34m\u001b[0m\u001b[0;34m\u001b[0m\u001b[0m\n\u001b[0m",
      "\u001b[0;31mNameError\u001b[0m: name 'dt' is not defined"
     ]
    }
   ],
   "source": [
    "dt"
   ]
  },
  {
   "cell_type": "code",
   "execution_count": 2,
   "id": "df8a11f4",
   "metadata": {},
   "outputs": [],
   "source": [
    "def saver(path, diction):\n",
    "    print(path)\n",
    "    for key in diction.keys():\n",
    "        print(key)\n",
    "    return"
   ]
  },
  {
   "cell_type": "code",
   "execution_count": 3,
   "id": "183e60fd",
   "metadata": {},
   "outputs": [],
   "source": [
    "dict_t = {\"a\":1, 'B':2}"
   ]
  },
  {
   "cell_type": "code",
   "execution_count": 5,
   "id": "c04d8a39",
   "metadata": {},
   "outputs": [
    {
     "name": "stdout",
     "output_type": "stream",
     "text": [
      "22\n",
      "a\n",
      "B\n"
     ]
    }
   ],
   "source": [
    "saver(22, dict_t)"
   ]
  },
  {
   "cell_type": "code",
   "execution_count": 11,
   "id": "c670ff95",
   "metadata": {},
   "outputs": [
    {
     "ename": "ValueError",
     "evalue": "If using all scalar values, you must pass an index",
     "output_type": "error",
     "traceback": [
      "\u001b[0;31m---------------------------------------------------------------------------\u001b[0m",
      "\u001b[0;31mValueError\u001b[0m                                Traceback (most recent call last)",
      "\u001b[0;32m/tmp/ipykernel_11062/3077679096.py\u001b[0m in \u001b[0;36m<module>\u001b[0;34m\u001b[0m\n\u001b[1;32m      1\u001b[0m \u001b[0;32mimport\u001b[0m \u001b[0mpandas\u001b[0m \u001b[0;32mas\u001b[0m \u001b[0mpd\u001b[0m\u001b[0;34m\u001b[0m\u001b[0;34m\u001b[0m\u001b[0m\n\u001b[0;32m----> 2\u001b[0;31m \u001b[0mpd\u001b[0m\u001b[0;34m.\u001b[0m\u001b[0mDataFrame\u001b[0m\u001b[0;34m.\u001b[0m\u001b[0mfrom_dict\u001b[0m\u001b[0;34m(\u001b[0m\u001b[0mdict_t\u001b[0m\u001b[0;34m)\u001b[0m\u001b[0;34m\u001b[0m\u001b[0;34m\u001b[0m\u001b[0m\n\u001b[0m",
      "\u001b[0;32m~/anaconda3/lib/python3.8/site-packages/pandas/core/frame.py\u001b[0m in \u001b[0;36mfrom_dict\u001b[0;34m(cls, data, orient, dtype, columns)\u001b[0m\n\u001b[1;32m   1591\u001b[0m             \u001b[0;32mraise\u001b[0m \u001b[0mValueError\u001b[0m\u001b[0;34m(\u001b[0m\u001b[0;34m\"only recognize index or columns for orient\"\u001b[0m\u001b[0;34m)\u001b[0m\u001b[0;34m\u001b[0m\u001b[0;34m\u001b[0m\u001b[0m\n\u001b[1;32m   1592\u001b[0m \u001b[0;34m\u001b[0m\u001b[0m\n\u001b[0;32m-> 1593\u001b[0;31m         \u001b[0;32mreturn\u001b[0m \u001b[0mcls\u001b[0m\u001b[0;34m(\u001b[0m\u001b[0mdata\u001b[0m\u001b[0;34m,\u001b[0m \u001b[0mindex\u001b[0m\u001b[0;34m=\u001b[0m\u001b[0mindex\u001b[0m\u001b[0;34m,\u001b[0m \u001b[0mcolumns\u001b[0m\u001b[0;34m=\u001b[0m\u001b[0mcolumns\u001b[0m\u001b[0;34m,\u001b[0m \u001b[0mdtype\u001b[0m\u001b[0;34m=\u001b[0m\u001b[0mdtype\u001b[0m\u001b[0;34m)\u001b[0m\u001b[0;34m\u001b[0m\u001b[0;34m\u001b[0m\u001b[0m\n\u001b[0m\u001b[1;32m   1594\u001b[0m \u001b[0;34m\u001b[0m\u001b[0m\n\u001b[1;32m   1595\u001b[0m     def to_numpy(\n",
      "\u001b[0;32m~/anaconda3/lib/python3.8/site-packages/pandas/core/frame.py\u001b[0m in \u001b[0;36m__init__\u001b[0;34m(self, data, index, columns, dtype, copy)\u001b[0m\n\u001b[1;32m    612\u001b[0m         \u001b[0;32melif\u001b[0m \u001b[0misinstance\u001b[0m\u001b[0;34m(\u001b[0m\u001b[0mdata\u001b[0m\u001b[0;34m,\u001b[0m \u001b[0mdict\u001b[0m\u001b[0;34m)\u001b[0m\u001b[0;34m:\u001b[0m\u001b[0;34m\u001b[0m\u001b[0;34m\u001b[0m\u001b[0m\n\u001b[1;32m    613\u001b[0m             \u001b[0;31m# GH#38939 de facto copy defaults to False only in non-dict cases\u001b[0m\u001b[0;34m\u001b[0m\u001b[0;34m\u001b[0m\u001b[0;34m\u001b[0m\u001b[0m\n\u001b[0;32m--> 614\u001b[0;31m             \u001b[0mmgr\u001b[0m \u001b[0;34m=\u001b[0m \u001b[0mdict_to_mgr\u001b[0m\u001b[0;34m(\u001b[0m\u001b[0mdata\u001b[0m\u001b[0;34m,\u001b[0m \u001b[0mindex\u001b[0m\u001b[0;34m,\u001b[0m \u001b[0mcolumns\u001b[0m\u001b[0;34m,\u001b[0m \u001b[0mdtype\u001b[0m\u001b[0;34m=\u001b[0m\u001b[0mdtype\u001b[0m\u001b[0;34m,\u001b[0m \u001b[0mcopy\u001b[0m\u001b[0;34m=\u001b[0m\u001b[0mcopy\u001b[0m\u001b[0;34m,\u001b[0m \u001b[0mtyp\u001b[0m\u001b[0;34m=\u001b[0m\u001b[0mmanager\u001b[0m\u001b[0;34m)\u001b[0m\u001b[0;34m\u001b[0m\u001b[0;34m\u001b[0m\u001b[0m\n\u001b[0m\u001b[1;32m    615\u001b[0m         \u001b[0;32melif\u001b[0m \u001b[0misinstance\u001b[0m\u001b[0;34m(\u001b[0m\u001b[0mdata\u001b[0m\u001b[0;34m,\u001b[0m \u001b[0mma\u001b[0m\u001b[0;34m.\u001b[0m\u001b[0mMaskedArray\u001b[0m\u001b[0;34m)\u001b[0m\u001b[0;34m:\u001b[0m\u001b[0;34m\u001b[0m\u001b[0;34m\u001b[0m\u001b[0m\n\u001b[1;32m    616\u001b[0m             \u001b[0;32mimport\u001b[0m \u001b[0mnumpy\u001b[0m\u001b[0;34m.\u001b[0m\u001b[0mma\u001b[0m\u001b[0;34m.\u001b[0m\u001b[0mmrecords\u001b[0m \u001b[0;32mas\u001b[0m \u001b[0mmrecords\u001b[0m\u001b[0;34m\u001b[0m\u001b[0;34m\u001b[0m\u001b[0m\n",
      "\u001b[0;32m~/anaconda3/lib/python3.8/site-packages/pandas/core/internals/construction.py\u001b[0m in \u001b[0;36mdict_to_mgr\u001b[0;34m(data, index, columns, dtype, typ, copy)\u001b[0m\n\u001b[1;32m    462\u001b[0m         \u001b[0;31m# TODO: can we get rid of the dt64tz special case above?\u001b[0m\u001b[0;34m\u001b[0m\u001b[0;34m\u001b[0m\u001b[0;34m\u001b[0m\u001b[0m\n\u001b[1;32m    463\u001b[0m \u001b[0;34m\u001b[0m\u001b[0m\n\u001b[0;32m--> 464\u001b[0;31m     return arrays_to_mgr(\n\u001b[0m\u001b[1;32m    465\u001b[0m         \u001b[0marrays\u001b[0m\u001b[0;34m,\u001b[0m \u001b[0mdata_names\u001b[0m\u001b[0;34m,\u001b[0m \u001b[0mindex\u001b[0m\u001b[0;34m,\u001b[0m \u001b[0mcolumns\u001b[0m\u001b[0;34m,\u001b[0m \u001b[0mdtype\u001b[0m\u001b[0;34m=\u001b[0m\u001b[0mdtype\u001b[0m\u001b[0;34m,\u001b[0m \u001b[0mtyp\u001b[0m\u001b[0;34m=\u001b[0m\u001b[0mtyp\u001b[0m\u001b[0;34m,\u001b[0m \u001b[0mconsolidate\u001b[0m\u001b[0;34m=\u001b[0m\u001b[0mcopy\u001b[0m\u001b[0;34m\u001b[0m\u001b[0;34m\u001b[0m\u001b[0m\n\u001b[1;32m    466\u001b[0m     )\n",
      "\u001b[0;32m~/anaconda3/lib/python3.8/site-packages/pandas/core/internals/construction.py\u001b[0m in \u001b[0;36marrays_to_mgr\u001b[0;34m(arrays, arr_names, index, columns, dtype, verify_integrity, typ, consolidate)\u001b[0m\n\u001b[1;32m    117\u001b[0m         \u001b[0;31m# figure out the index, if necessary\u001b[0m\u001b[0;34m\u001b[0m\u001b[0;34m\u001b[0m\u001b[0;34m\u001b[0m\u001b[0m\n\u001b[1;32m    118\u001b[0m         \u001b[0;32mif\u001b[0m \u001b[0mindex\u001b[0m \u001b[0;32mis\u001b[0m \u001b[0;32mNone\u001b[0m\u001b[0;34m:\u001b[0m\u001b[0;34m\u001b[0m\u001b[0;34m\u001b[0m\u001b[0m\n\u001b[0;32m--> 119\u001b[0;31m             \u001b[0mindex\u001b[0m \u001b[0;34m=\u001b[0m \u001b[0m_extract_index\u001b[0m\u001b[0;34m(\u001b[0m\u001b[0marrays\u001b[0m\u001b[0;34m)\u001b[0m\u001b[0;34m\u001b[0m\u001b[0;34m\u001b[0m\u001b[0m\n\u001b[0m\u001b[1;32m    120\u001b[0m         \u001b[0;32melse\u001b[0m\u001b[0;34m:\u001b[0m\u001b[0;34m\u001b[0m\u001b[0;34m\u001b[0m\u001b[0m\n\u001b[1;32m    121\u001b[0m             \u001b[0mindex\u001b[0m \u001b[0;34m=\u001b[0m \u001b[0mensure_index\u001b[0m\u001b[0;34m(\u001b[0m\u001b[0mindex\u001b[0m\u001b[0;34m)\u001b[0m\u001b[0;34m\u001b[0m\u001b[0;34m\u001b[0m\u001b[0m\n",
      "\u001b[0;32m~/anaconda3/lib/python3.8/site-packages/pandas/core/internals/construction.py\u001b[0m in \u001b[0;36m_extract_index\u001b[0;34m(data)\u001b[0m\n\u001b[1;32m    623\u001b[0m \u001b[0;34m\u001b[0m\u001b[0m\n\u001b[1;32m    624\u001b[0m         \u001b[0;32mif\u001b[0m \u001b[0;32mnot\u001b[0m \u001b[0mindexes\u001b[0m \u001b[0;32mand\u001b[0m \u001b[0;32mnot\u001b[0m \u001b[0mraw_lengths\u001b[0m\u001b[0;34m:\u001b[0m\u001b[0;34m\u001b[0m\u001b[0;34m\u001b[0m\u001b[0m\n\u001b[0;32m--> 625\u001b[0;31m             \u001b[0;32mraise\u001b[0m \u001b[0mValueError\u001b[0m\u001b[0;34m(\u001b[0m\u001b[0;34m\"If using all scalar values, you must pass an index\"\u001b[0m\u001b[0;34m)\u001b[0m\u001b[0;34m\u001b[0m\u001b[0;34m\u001b[0m\u001b[0m\n\u001b[0m\u001b[1;32m    626\u001b[0m \u001b[0;34m\u001b[0m\u001b[0m\n\u001b[1;32m    627\u001b[0m         \u001b[0;32mif\u001b[0m \u001b[0mhave_series\u001b[0m\u001b[0;34m:\u001b[0m\u001b[0;34m\u001b[0m\u001b[0;34m\u001b[0m\u001b[0m\n",
      "\u001b[0;31mValueError\u001b[0m: If using all scalar values, you must pass an index"
     ]
    }
   ],
   "source": [
    "import pandas as pd\n",
    "pd.DataFrame.from_dict(dict_t)"
   ]
  },
  {
   "cell_type": "code",
   "execution_count": 15,
   "id": "c0a82d0f",
   "metadata": {},
   "outputs": [],
   "source": [
    "df = pd.DataFrame.from_dict(TICK,orient='index').T\n"
   ]
  },
  {
   "cell_type": "code",
   "execution_count": 18,
   "id": "eeedc8b9",
   "metadata": {},
   "outputs": [],
   "source": [
    "df.to_csv?"
   ]
  },
  {
   "cell_type": "code",
   "execution_count": null,
   "id": "6253c4e7",
   "metadata": {},
   "outputs": [],
   "source": []
  }
 ],
 "metadata": {
  "kernelspec": {
   "display_name": "Python 3 (ipykernel)",
   "language": "python",
   "name": "python3"
  },
  "language_info": {
   "codemirror_mode": {
    "name": "ipython",
    "version": 3
   },
   "file_extension": ".py",
   "mimetype": "text/x-python",
   "name": "python",
   "nbconvert_exporter": "python",
   "pygments_lexer": "ipython3",
   "version": "3.8.11"
  }
 },
 "nbformat": 4,
 "nbformat_minor": 5
}
