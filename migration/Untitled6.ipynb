{
 "cells": [
  {
   "cell_type": "markdown",
   "id": "74ebbac8",
   "metadata": {},
   "source": [
    "Short Study For Market Last 2 years\n",
    "\n",
    "\n",
    "Flow:\n",
    "1. Download all daily REGSHO data via pullcdnv1.py for a date range \n",
    "2. Prep data for pandas \n",
    "    1. ***Investigate for longer pulls ***\n",
    "    2. Load each file\n",
    "    3. Add each loaded file to a large pandas frame\n",
    "    4. Remove NaN rows \n",
    "3. Add calculated rows\n",
    "    1. Calculate NetShort for the day for each row\n",
    "4. Load in Ticker infomation from **yfinance** for mkt cap\n",
    "5. Perform individual ticker information\n",
    "    1. Pull all individual tickers\n",
    "    1. Subset that have market cap numbers.. some are gold etc that dont\n",
    "    1. Calculate Cumulative net short for each ticker for the time period\n",
    "\n"
   ]
  },
  {
   "cell_type": "code",
   "execution_count": 4,
   "id": "2b7c0314",
   "metadata": {},
   "outputs": [],
   "source": [
    "import requests\n",
    "import pandas as pd \n",
    "import io\n",
    "\n",
    "url=\"https://pkgstore.datahub.io/core/nasdaq-listings/nasdaq-listed_csv/data/7665719fb51081ba0bd834fde71ce822/nasdaq-listed_csv.csv\"\n",
    "s = requests.get(url).content\n",
    "companies = pd.read_csv(io.StringIO(s.decode('utf-8')))\n"
   ]
  },
  {
   "cell_type": "code",
   "execution_count": 6,
   "id": "d8344e0a",
   "metadata": {},
   "outputs": [
    {
     "data": {
      "text/plain": [
       "Symbol               object\n",
       "Company Name         object\n",
       "Security Name        object\n",
       "Market Category      object\n",
       "Test Issue           object\n",
       "Financial Status     object\n",
       "Round Lot Size      float64\n",
       "dtype: object"
      ]
     },
     "execution_count": 6,
     "metadata": {},
     "output_type": "execute_result"
    }
   ],
   "source": [
    "companies.dtypes"
   ]
  },
  {
   "cell_type": "code",
   "execution_count": null,
   "id": "a6e50c01",
   "metadata": {},
   "outputs": [],
   "source": []
  }
 ],
 "metadata": {
  "kernelspec": {
   "display_name": "Python 3 (ipykernel)",
   "language": "python",
   "name": "python3"
  },
  "language_info": {
   "codemirror_mode": {
    "name": "ipython",
    "version": 3
   },
   "file_extension": ".py",
   "mimetype": "text/x-python",
   "name": "python",
   "nbconvert_exporter": "python",
   "pygments_lexer": "ipython3",
   "version": "3.8.11"
  }
 },
 "nbformat": 4,
 "nbformat_minor": 5
}
