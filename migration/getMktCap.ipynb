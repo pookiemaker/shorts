{
 "cells": [
  {
   "cell_type": "code",
   "execution_count": 1,
   "id": "d63d4a12",
   "metadata": {},
   "outputs": [],
   "source": [
    "import pandas as pd\n",
    "import yfinance as yf\n",
    "import datetime\n",
    "import time\n",
    "import requests\n",
    "import io\n",
    "import os\n",
    "import fnmatch\n",
    "import numpy as np\n",
    "import csv\n",
    "\n",
    "from matplotlib import pyplot as plt\n"
   ]
  },
  {
   "cell_type": "code",
   "execution_count": 7,
   "id": "755b4eba",
   "metadata": {},
   "outputs": [
    {
     "data": {
      "text/plain": [
       "8324"
      ]
     },
     "execution_count": 7,
     "metadata": {},
     "output_type": "execute_result"
    }
   ],
   "source": [
    "\n",
    "symbolbasics = pd.read_csv('shortvolume/stockdata/nasdaq_screener.csv')\n",
    "Symbols = symbolbasics['Symbol'].tolist()\n",
    "#print(Symbols)\n",
    "\n",
    "len(Symbols)"
   ]
  },
  {
   "cell_type": "code",
   "execution_count": 3,
   "id": "ca5edb9e",
   "metadata": {},
   "outputs": [
    {
     "data": {
      "text/plain": [
       "['A',\n",
       " 'AA',\n",
       " 'AAC',\n",
       " 'AACG',\n",
       " 'AACI',\n",
       " 'AACIU',\n",
       " 'AACIW',\n",
       " 'AADI',\n",
       " 'AAIC',\n",
       " 'AAIC^B',\n",
       " 'AAIC^C',\n",
       " 'AAIN',\n",
       " 'AAL',\n",
       " 'AAM^A',\n",
       " 'AAM^B',\n",
       " 'AAME',\n",
       " 'AAN',\n",
       " 'AAOI',\n",
       " 'AAON',\n",
       " 'AAP']"
      ]
     },
     "execution_count": 3,
     "metadata": {},
     "output_type": "execute_result"
    }
   ],
   "source": [
    "start = 0\n",
    "Symbols[start:start+20]"
   ]
  },
  {
   "cell_type": "code",
   "execution_count": 34,
   "id": "cd42bf77",
   "metadata": {},
   "outputs": [
    {
     "name": "stdout",
     "output_type": "stream",
     "text": [
      "1\n",
      "ACR\n",
      "{'zip': '10022', 'sector': 'Real Estate', 'fullTimeEmployees': 4, 'longBusinessSummary': 'ACRES Commercial Realty Corp., a real estate investment trust (REIT), focuses on the origination, holding, and management of commercial real estate mortgage loans and other commercial real estate-related debt investments in the United States. It invests in commercial real estate-related assets, including floating and fixed rate first mortgage loans, first priority interests in first mortgage loans, subordinated interests in first mortgage loans, mezzanine debt, preferred equity investments, commercial mortgage-backed securities, and commercial real estate equity investments. The company qualifies as a real estate investment trust for federal income tax purposes. It generally would not be subject to federal corporate income tax to the extent that it distributes 100% of its REIT taxable income. The company was formerly known as Exantas Capital Corp. and changed its name to ACRES Commercial Realty Corp. in February 2021. ACRES Commercial Realty Corp. was incorporated in 2005 and is based in Westbury, New York.', 'city': 'Westbury', 'phone': '516 862 2385', 'state': 'NY', 'country': 'United States', 'companyOfficers': [], 'website': 'https://www.acresreit.com', 'maxAge': 1, 'address1': '865 Merrick Avenue', 'industry': 'REIT—Mortgage', 'address2': 'Suite 200 S', 'ebitdaMargins': 0, 'profitMargins': 0.58874, 'grossMargins': 0.90990996, 'operatingCashflow': 37015000, 'revenueGrowth': -0.416, 'operatingMargins': 0.67710996, 'ebitda': None, 'targetLowPrice': 19, 'recommendationKey': 'buy', 'grossProfits': 19188000, 'freeCashflow': None, 'targetMedianPrice': 19.5, 'currentPrice': 12.59, 'earningsGrowth': None, 'currentRatio': 6.064, 'returnOnAssets': 0.023659999, 'numberOfAnalystOpinions': 2, 'targetMeanPrice': 19.5, 'debtToEquity': 362.345, 'returnOnEquity': 0.1204, 'targetHighPrice': 20, 'totalCash': 109949000, 'totalDebt': 1606162048, 'totalRevenue': 77820000, 'totalCashPerShare': 12.095, 'financialCurrency': 'USD', 'revenuePerShare': 7.699, 'quickRatio': 5.96, 'recommendationMean': 2, 'exchange': 'NYQ', 'shortName': 'ACRES Commercial Realty Corp.', 'longName': 'ACRES Commercial Realty Corp.', 'exchangeTimezoneName': 'America/New_York', 'exchangeTimezoneShortName': 'EST', 'isEsgPopulated': False, 'gmtOffSetMilliseconds': '-18000000', 'quoteType': 'EQUITY', 'symbol': 'ACR', 'messageBoardId': 'finmb_20448255', 'market': 'us_market', 'annualHoldingsTurnover': None, 'enterpriseToRevenue': 20.683, 'beta3Year': None, 'enterpriseToEbitda': None, '52WeekChange': 0.09004331, 'morningStarRiskRating': None, 'forwardEps': 1.11, 'revenueQuarterlyGrowth': None, 'sharesOutstanding': 9423610, 'fundInceptionDate': None, 'annualReportExpenseRatio': None, 'totalAssets': None, 'bookValue': 48.762, 'sharesShort': 25529, 'sharesPercentSharesOut': 0.0027, 'fundFamily': None, 'lastFiscalYearEnd': 1609372800, 'heldPercentInstitutions': 0.4676, 'netIncomeToCommon': 32196000, 'trailingEps': 3.185, 'lastDividendValue': 0.825, 'SandP52WeekChange': 0.2870245, 'priceToBook': 0.25819287, 'heldPercentInsiders': 0.0376, 'nextFiscalYearEnd': 1672444800, 'yield': None, 'mostRecentQuarter': 1632960000, 'shortRatio': 0.47, 'sharesShortPreviousMonthDate': 1636934400, 'floatShares': 8456050, 'beta': 1.956883, 'enterpriseValue': 1609578752, 'priceHint': 2, 'threeYearAverageReturn': None, 'lastSplitDate': 1613520000, 'lastSplitFactor': '1:3', 'legalType': None, 'lastDividendDate': 1577664000, 'morningStarOverallRating': None, 'earningsQuarterlyGrowth': None, 'priceToSalesTrailing12Months': 1.5245856, 'dateShortInterest': 1639526400, 'pegRatio': 6.88, 'ytdReturn': None, 'forwardPE': 11.342342, 'lastCapGain': None, 'shortPercentOfFloat': 0.0028, 'sharesShortPriorMonth': 19947, 'impliedSharesOutstanding': None, 'category': None, 'fiveYearAverageReturn': None, 'previousClose': 12.47, 'regularMarketOpen': 12.46, 'twoHundredDayAverage': 15.61115, 'trailingAnnualDividendYield': None, 'payoutRatio': 0, 'volume24Hr': None, 'regularMarketDayHigh': 12.845, 'navPrice': None, 'averageDailyVolume10Day': 60380, 'regularMarketPreviousClose': 12.47, 'fiftyDayAverage': 14.0452, 'trailingAnnualDividendRate': None, 'open': 12.46, 'toCurrency': None, 'averageVolume10days': 60380, 'expireDate': None, 'algorithm': None, 'dividendRate': None, 'exDividendDate': 1585526400, 'circulatingSupply': None, 'startDate': None, 'regularMarketDayLow': 12.36, 'currency': 'USD', 'trailingPE': 3.9529045, 'regularMarketVolume': 26323, 'lastMarket': None, 'maxSupply': None, 'openInterest': None, 'marketCap': 118643248, 'volumeAllCurrencies': None, 'strikePrice': None, 'averageVolume': 45519, 'dayLow': 12.36, 'ask': 13.03, 'askSize': 800, 'volume': 26323, 'fiftyTwoWeekHigh': 18.43, 'fromCurrency': None, 'fiveYearAvgDividendYield': None, 'fiftyTwoWeekLow': 10.67, 'bid': 12.09, 'tradeable': False, 'dividendYield': None, 'bidSize': 900, 'dayHigh': 12.845, 'regularMarketPrice': 12.59, 'logo_url': 'https://logo.clearbit.com/acresreit.com'}\n"
     ]
    }
   ],
   "source": [
    "\n",
    "data_dict ={}\n",
    "idx = 0 \n",
    "for symbol in Symbols[97:98]:\n",
    "    idx= idx+1\n",
    "    print(idx)\n",
    "    print(symbol)\n",
    "    try: \n",
    "        TICK = yf.Ticker(symbol).info\n",
    "        print(TICK)\n",
    "        \n",
    "    except:\n",
    "        print('{} symbol bad'.format(symbol))\n",
    "    \n",
    "#print(data_dict)"
   ]
  },
  {
   "cell_type": "code",
   "execution_count": 36,
   "id": "c68c157a",
   "metadata": {},
   "outputs": [
    {
     "data": {
      "text/html": [
       "<div>\n",
       "<style scoped>\n",
       "    .dataframe tbody tr th:only-of-type {\n",
       "        vertical-align: middle;\n",
       "    }\n",
       "\n",
       "    .dataframe tbody tr th {\n",
       "        vertical-align: top;\n",
       "    }\n",
       "\n",
       "    .dataframe thead th {\n",
       "        text-align: right;\n",
       "    }\n",
       "</style>\n",
       "<table border=\"1\" class=\"dataframe\">\n",
       "  <thead>\n",
       "    <tr style=\"text-align: right;\">\n",
       "      <th></th>\n",
       "      <th>ACR</th>\n",
       "    </tr>\n",
       "  </thead>\n",
       "  <tbody>\n",
       "    <tr>\n",
       "      <th>52WeekChange</th>\n",
       "      <td>0.090043</td>\n",
       "    </tr>\n",
       "    <tr>\n",
       "      <th>SandP52WeekChange</th>\n",
       "      <td>0.287025</td>\n",
       "    </tr>\n",
       "    <tr>\n",
       "      <th>address1</th>\n",
       "      <td>865 Merrick Avenue</td>\n",
       "    </tr>\n",
       "    <tr>\n",
       "      <th>address2</th>\n",
       "      <td>Suite 200 S</td>\n",
       "    </tr>\n",
       "    <tr>\n",
       "      <th>algorithm</th>\n",
       "      <td>None</td>\n",
       "    </tr>\n",
       "    <tr>\n",
       "      <th>...</th>\n",
       "      <td>...</td>\n",
       "    </tr>\n",
       "    <tr>\n",
       "      <th>volumeAllCurrencies</th>\n",
       "      <td>None</td>\n",
       "    </tr>\n",
       "    <tr>\n",
       "      <th>website</th>\n",
       "      <td>https://www.acresreit.com</td>\n",
       "    </tr>\n",
       "    <tr>\n",
       "      <th>yield</th>\n",
       "      <td>None</td>\n",
       "    </tr>\n",
       "    <tr>\n",
       "      <th>ytdReturn</th>\n",
       "      <td>None</td>\n",
       "    </tr>\n",
       "    <tr>\n",
       "      <th>zip</th>\n",
       "      <td>10022</td>\n",
       "    </tr>\n",
       "  </tbody>\n",
       "</table>\n",
       "<p>152 rows × 1 columns</p>\n",
       "</div>"
      ],
      "text/plain": [
       "                                           ACR\n",
       "52WeekChange                          0.090043\n",
       "SandP52WeekChange                     0.287025\n",
       "address1                    865 Merrick Avenue\n",
       "address2                           Suite 200 S\n",
       "algorithm                                 None\n",
       "...                                        ...\n",
       "volumeAllCurrencies                       None\n",
       "website              https://www.acresreit.com\n",
       "yield                                     None\n",
       "ytdReturn                                 None\n",
       "zip                                      10022\n",
       "\n",
       "[152 rows x 1 columns]"
      ]
     },
     "execution_count": 36,
     "metadata": {},
     "output_type": "execute_result"
    }
   ],
   "source": [
    "derp = pd.DataFrame.from_dict(data_dict)\n",
    "derp"
   ]
  },
  {
   "cell_type": "code",
   "execution_count": 6,
   "id": "49a89195",
   "metadata": {
    "scrolled": true
   },
   "outputs": [
    {
     "data": {
      "text/plain": [
       "A        302000992\n",
       "AA       187103008\n",
       "AAC      100000000\n",
       "AACG      31376900\n",
       "AACI      20709500\n",
       "           ...    \n",
       "ACQRU         None\n",
       "ACQRW          NaN\n",
       "ACR        9398260\n",
       "ACR^C          NaN\n",
       "ACR^D          NaN\n",
       "Name: sharesOutstanding, Length: 100, dtype: object"
      ]
     },
     "execution_count": 6,
     "metadata": {},
     "output_type": "execute_result"
    }
   ],
   "source": [
    "derp.T['sharesOutstanding']"
   ]
  },
  {
   "cell_type": "code",
   "execution_count": 30,
   "id": "977c7520",
   "metadata": {
    "scrolled": false
   },
   "outputs": [
    {
     "data": {
      "text/plain": [
       "(100, 169)"
      ]
     },
     "execution_count": 30,
     "metadata": {},
     "output_type": "execute_result"
    }
   ],
   "source": [
    "derp = derp.T\n",
    "derp.shape"
   ]
  },
  {
   "cell_type": "code",
   "execution_count": 23,
   "id": "f534ec06",
   "metadata": {},
   "outputs": [],
   "source": [
    "df = derp.sharesOutstanding\n",
    "df = df.dropna()"
   ]
  },
  {
   "cell_type": "code",
   "execution_count": 26,
   "id": "146620e8",
   "metadata": {},
   "outputs": [
    {
     "data": {
      "text/plain": [
       "70"
      ]
     },
     "execution_count": 26,
     "metadata": {},
     "output_type": "execute_result"
    }
   ],
   "source": [
    "df.size"
   ]
  },
  {
   "cell_type": "code",
   "execution_count": 16,
   "id": "45a419fe",
   "metadata": {},
   "outputs": [
    {
     "data": {
      "text/html": [
       "<div>\n",
       "<style scoped>\n",
       "    .dataframe tbody tr th:only-of-type {\n",
       "        vertical-align: middle;\n",
       "    }\n",
       "\n",
       "    .dataframe tbody tr th {\n",
       "        vertical-align: top;\n",
       "    }\n",
       "\n",
       "    .dataframe thead th {\n",
       "        text-align: right;\n",
       "    }\n",
       "</style>\n",
       "<table border=\"1\" class=\"dataframe\">\n",
       "  <thead>\n",
       "    <tr style=\"text-align: right;\">\n",
       "      <th></th>\n",
       "      <th>zip</th>\n",
       "      <th>sector</th>\n",
       "      <th>fullTimeEmployees</th>\n",
       "      <th>longBusinessSummary</th>\n",
       "      <th>city</th>\n",
       "      <th>phone</th>\n",
       "      <th>state</th>\n",
       "      <th>country</th>\n",
       "      <th>companyOfficers</th>\n",
       "      <th>website</th>\n",
       "      <th>...</th>\n",
       "      <th>regularMarketTime</th>\n",
       "      <th>regularMarketChange</th>\n",
       "      <th>preMarketPrice</th>\n",
       "      <th>exchangeDataDelayedBy</th>\n",
       "      <th>postMarketChange</th>\n",
       "      <th>postMarketPrice</th>\n",
       "      <th>exchangeName</th>\n",
       "      <th>preMarketChange</th>\n",
       "      <th>regularMarketSource</th>\n",
       "      <th>marketState</th>\n",
       "    </tr>\n",
       "  </thead>\n",
       "  <tbody>\n",
       "    <tr>\n",
       "      <th>ACQRU</th>\n",
       "      <td>10172</td>\n",
       "      <td>Financial Services</td>\n",
       "      <td>NaN</td>\n",
       "      <td>Independence Holdings Corp. a blank check comp...</td>\n",
       "      <td>New York</td>\n",
       "      <td>212-704-3000</td>\n",
       "      <td>NY</td>\n",
       "      <td>United States</td>\n",
       "      <td>[]</td>\n",
       "      <td>https://www.indholdings.com</td>\n",
       "      <td>...</td>\n",
       "      <td>NaN</td>\n",
       "      <td>NaN</td>\n",
       "      <td>NaN</td>\n",
       "      <td>NaN</td>\n",
       "      <td>NaN</td>\n",
       "      <td>NaN</td>\n",
       "      <td>NaN</td>\n",
       "      <td>NaN</td>\n",
       "      <td>NaN</td>\n",
       "      <td>NaN</td>\n",
       "    </tr>\n",
       "    <tr>\n",
       "      <th>ACQRW</th>\n",
       "      <td>NaN</td>\n",
       "      <td>NaN</td>\n",
       "      <td>NaN</td>\n",
       "      <td>NaN</td>\n",
       "      <td>NaN</td>\n",
       "      <td>NaN</td>\n",
       "      <td>NaN</td>\n",
       "      <td>NaN</td>\n",
       "      <td>NaN</td>\n",
       "      <td>NaN</td>\n",
       "      <td>...</td>\n",
       "      <td>NaN</td>\n",
       "      <td>NaN</td>\n",
       "      <td>NaN</td>\n",
       "      <td>NaN</td>\n",
       "      <td>NaN</td>\n",
       "      <td>NaN</td>\n",
       "      <td>NaN</td>\n",
       "      <td>NaN</td>\n",
       "      <td>NaN</td>\n",
       "      <td>NaN</td>\n",
       "    </tr>\n",
       "    <tr>\n",
       "      <th>ACR</th>\n",
       "      <td>10022</td>\n",
       "      <td>Real Estate</td>\n",
       "      <td>4</td>\n",
       "      <td>ACRES Commercial Realty Corp., a real estate i...</td>\n",
       "      <td>Westbury</td>\n",
       "      <td>516 862 2385</td>\n",
       "      <td>NY</td>\n",
       "      <td>United States</td>\n",
       "      <td>[]</td>\n",
       "      <td>https://www.acresreit.com</td>\n",
       "      <td>...</td>\n",
       "      <td>NaN</td>\n",
       "      <td>NaN</td>\n",
       "      <td>NaN</td>\n",
       "      <td>NaN</td>\n",
       "      <td>NaN</td>\n",
       "      <td>NaN</td>\n",
       "      <td>NaN</td>\n",
       "      <td>NaN</td>\n",
       "      <td>NaN</td>\n",
       "      <td>NaN</td>\n",
       "    </tr>\n",
       "    <tr>\n",
       "      <th>ACR^C</th>\n",
       "      <td>NaN</td>\n",
       "      <td>NaN</td>\n",
       "      <td>NaN</td>\n",
       "      <td>NaN</td>\n",
       "      <td>NaN</td>\n",
       "      <td>NaN</td>\n",
       "      <td>NaN</td>\n",
       "      <td>NaN</td>\n",
       "      <td>NaN</td>\n",
       "      <td>NaN</td>\n",
       "      <td>...</td>\n",
       "      <td>NaN</td>\n",
       "      <td>NaN</td>\n",
       "      <td>NaN</td>\n",
       "      <td>NaN</td>\n",
       "      <td>NaN</td>\n",
       "      <td>NaN</td>\n",
       "      <td>NaN</td>\n",
       "      <td>NaN</td>\n",
       "      <td>NaN</td>\n",
       "      <td>NaN</td>\n",
       "    </tr>\n",
       "    <tr>\n",
       "      <th>ACR^D</th>\n",
       "      <td>NaN</td>\n",
       "      <td>NaN</td>\n",
       "      <td>NaN</td>\n",
       "      <td>NaN</td>\n",
       "      <td>NaN</td>\n",
       "      <td>NaN</td>\n",
       "      <td>NaN</td>\n",
       "      <td>NaN</td>\n",
       "      <td>NaN</td>\n",
       "      <td>NaN</td>\n",
       "      <td>...</td>\n",
       "      <td>NaN</td>\n",
       "      <td>NaN</td>\n",
       "      <td>NaN</td>\n",
       "      <td>NaN</td>\n",
       "      <td>NaN</td>\n",
       "      <td>NaN</td>\n",
       "      <td>NaN</td>\n",
       "      <td>NaN</td>\n",
       "      <td>NaN</td>\n",
       "      <td>NaN</td>\n",
       "    </tr>\n",
       "  </tbody>\n",
       "</table>\n",
       "<p>5 rows × 169 columns</p>\n",
       "</div>"
      ],
      "text/plain": [
       "         zip              sector fullTimeEmployees  \\\n",
       "ACQRU  10172  Financial Services               NaN   \n",
       "ACQRW    NaN                 NaN               NaN   \n",
       "ACR    10022         Real Estate                 4   \n",
       "ACR^C    NaN                 NaN               NaN   \n",
       "ACR^D    NaN                 NaN               NaN   \n",
       "\n",
       "                                     longBusinessSummary      city  \\\n",
       "ACQRU  Independence Holdings Corp. a blank check comp...  New York   \n",
       "ACQRW                                                NaN       NaN   \n",
       "ACR    ACRES Commercial Realty Corp., a real estate i...  Westbury   \n",
       "ACR^C                                                NaN       NaN   \n",
       "ACR^D                                                NaN       NaN   \n",
       "\n",
       "              phone state        country companyOfficers  \\\n",
       "ACQRU  212-704-3000    NY  United States              []   \n",
       "ACQRW           NaN   NaN            NaN             NaN   \n",
       "ACR    516 862 2385    NY  United States              []   \n",
       "ACR^C           NaN   NaN            NaN             NaN   \n",
       "ACR^D           NaN   NaN            NaN             NaN   \n",
       "\n",
       "                           website  ... regularMarketTime regularMarketChange  \\\n",
       "ACQRU  https://www.indholdings.com  ...               NaN                 NaN   \n",
       "ACQRW                          NaN  ...               NaN                 NaN   \n",
       "ACR      https://www.acresreit.com  ...               NaN                 NaN   \n",
       "ACR^C                          NaN  ...               NaN                 NaN   \n",
       "ACR^D                          NaN  ...               NaN                 NaN   \n",
       "\n",
       "      preMarketPrice exchangeDataDelayedBy postMarketChange postMarketPrice  \\\n",
       "ACQRU            NaN                   NaN              NaN             NaN   \n",
       "ACQRW            NaN                   NaN              NaN             NaN   \n",
       "ACR              NaN                   NaN              NaN             NaN   \n",
       "ACR^C            NaN                   NaN              NaN             NaN   \n",
       "ACR^D            NaN                   NaN              NaN             NaN   \n",
       "\n",
       "      exchangeName preMarketChange regularMarketSource marketState  \n",
       "ACQRU          NaN             NaN                 NaN         NaN  \n",
       "ACQRW          NaN             NaN                 NaN         NaN  \n",
       "ACR            NaN             NaN                 NaN         NaN  \n",
       "ACR^C          NaN             NaN                 NaN         NaN  \n",
       "ACR^D          NaN             NaN                 NaN         NaN  \n",
       "\n",
       "[5 rows x 169 columns]"
      ]
     },
     "execution_count": 16,
     "metadata": {},
     "output_type": "execute_result"
    }
   ],
   "source": [
    "derp.T.tail()"
   ]
  },
  {
   "cell_type": "code",
   "execution_count": null,
   "id": "821b14c0",
   "metadata": {},
   "outputs": [],
   "source": []
  }
 ],
 "metadata": {
  "kernelspec": {
   "display_name": "Python 3 (ipykernel)",
   "language": "python",
   "name": "python3"
  },
  "language_info": {
   "codemirror_mode": {
    "name": "ipython",
    "version": 3
   },
   "file_extension": ".py",
   "mimetype": "text/x-python",
   "name": "python",
   "nbconvert_exporter": "python",
   "pygments_lexer": "ipython3",
   "version": "3.8.11"
  }
 },
 "nbformat": 4,
 "nbformat_minor": 5
}
