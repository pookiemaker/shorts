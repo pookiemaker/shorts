{
 "cells": [
  {
   "cell_type": "code",
   "execution_count": 20,
   "id": "promising-meditation",
   "metadata": {},
   "outputs": [],
   "source": [
    "from datetime import date\n",
    "import requests"
   ]
  },
  {
   "cell_type": "code",
   "execution_count": 77,
   "id": "composed-florist",
   "metadata": {},
   "outputs": [],
   "source": [
    "# Get today's date \n",
    "today = date.today()\n",
    "dd = today.strftime(\"%Y%m%d\")\n",
    "dd ='20210727'"
   ]
  },
  {
   "cell_type": "code",
   "execution_count": 78,
   "id": "designed-bones",
   "metadata": {},
   "outputs": [],
   "source": [
    "bdir =  '/mnt/5c823cd2-502b-4990-a220-579838be1f10/data/shortdata2/'\n",
    "burl =  'http://regsho.finra.org/'\n",
    "colums = 'Date|Symbol|ShortVolume|ShortExemptVolume|TotalVolume|Market'\n",
    "\n",
    "# FINRA consolidated NMS \n",
    "cnms = 'CNMSshvol'+dd+'.txt'\n",
    "\n",
    "# FINRA/NASDAQ TRF Chicago\n",
    "fnqc = 'FNQCshvol'+dd+'.txt'\n",
    "\n",
    "# ADF -- never has data\n",
    "adf = 'FNRAshvol'+dd+'.txt'\n",
    "\n",
    "#FINRA/NASDAQ TRF Carteret\n",
    "fnsq = 'FNSQshvol'+dd+'.txt'\n",
    "\n",
    "# FINRA/NYSE TRF\n",
    "fnyx = 'FNYXshvol'+dd+'.txt'\n",
    "\n",
    "# ORF \n",
    "forf = 'FORFshvol'+dd+'.txt'\n",
    "\n",
    "mylist = [cnms, fnqc, adf, fnsq, fnyx, forf]\n"
   ]
  },
  {
   "cell_type": "code",
   "execution_count": 82,
   "id": "anticipated-secretary",
   "metadata": {},
   "outputs": [
    {
     "name": "stdout",
     "output_type": "stream",
     "text": [
      "http://regsho.finra.org/CNMSshvol20210727.txt\n"
     ]
    }
   ],
   "source": [
    "print(burl+cnms)"
   ]
  },
  {
   "cell_type": "code",
   "execution_count": 79,
   "id": "homeless-grounds",
   "metadata": {},
   "outputs": [],
   "source": [
    "for exchange in mylist:\n",
    "    r = requests.get(burl+exchange).content\n",
    "    f = open(bdir+exchange,'wb')\n",
    "    f.write(r)\n",
    "    f.close()\n"
   ]
  },
  {
   "cell_type": "code",
   "execution_count": 80,
   "id": "incredible-mother",
   "metadata": {},
   "outputs": [
    {
     "name": "stdout",
     "output_type": "stream",
     "text": [
      "Date|Symbol|ShortVolume|ShortExemptVolume|TotalVolume|Market\n",
      "CNMSshvol20210727.txt : 20210727|GME|267031|3358|424814|B,Q,N\n",
      "\n",
      "FNQCshvol20210727.txt : 20210727|GME|2538|0|4661|B\n",
      "\n",
      "FNRAshvol20210727.txt : none found\n",
      "FNSQshvol20210727.txt : 20210727|GME|227648|3358|333443|Q\n",
      "\n",
      "FNYXshvol20210727.txt : 20210727|GME|36845|0|86710|N\n",
      "\n",
      "FORFshvol20210727.txt : none found\n"
     ]
    }
   ],
   "source": [
    "import re\n",
    "print(colums)\n",
    "\n",
    "TICKER_DATA = []\n",
    "for exchange in mylist:\n",
    "    found = False\n",
    "    f = open(bdir+exchange,'r')\n",
    "    for line in f:\n",
    "        if re.search('GME\\|', line):\n",
    "            print(exchange+' : '+line)\n",
    "            TICKER_DATA.append(line)\n",
    "            found = True\n",
    "        else:\n",
    "            pass\n",
    "    if found == False:\n",
    "        print(exchange+' : none found')\n",
    "            "
   ]
  },
  {
   "cell_type": "code",
   "execution_count": 81,
   "id": "checked-murder",
   "metadata": {},
   "outputs": [
    {
     "name": "stdout",
     "output_type": "stream",
     "text": [
      "['20210727', 'GME', '267031', '3358', '424814', 'B,Q,N']\n",
      "63.64879688522507\n",
      "-115964\n",
      "['20210727', 'GME', '2538', '0', '4661', 'B']\n",
      "54.451834370306806\n",
      "-415\n",
      "['20210727', 'GME', '227648', '3358', '333443', 'Q']\n",
      "69.27900720662902\n",
      "-128569\n",
      "['20210727', 'GME', '36845', '0', '86710', 'N']\n",
      "42.492215430746164\n",
      "13020\n"
     ]
    }
   ],
   "source": [
    "for element in TICKER_DATA:\n",
    "    x = element.rstrip()\n",
    "    y = x.split('|')\n",
    "    print(y)\n",
    "    sv = int(y[2])\n",
    "    sve = int(y[3])\n",
    "    tv = int(y[4])\n",
    "    spercent = (sv+sve)/tv\n",
    "    print(spercent*100)\n",
    "    addshorts = tv-2*(sv+sve)\n",
    "    print(addshorts)"
   ]
  },
  {
   "cell_type": "code",
   "execution_count": null,
   "id": "competent-teaching",
   "metadata": {},
   "outputs": [],
   "source": []
  },
  {
   "cell_type": "code",
   "execution_count": null,
   "id": "increasing-sphere",
   "metadata": {},
   "outputs": [],
   "source": []
  }
 ],
 "metadata": {
  "kernelspec": {
   "display_name": "Python 3",
   "language": "python",
   "name": "python3"
  },
  "language_info": {
   "codemirror_mode": {
    "name": "ipython",
    "version": 3
   },
   "file_extension": ".py",
   "mimetype": "text/x-python",
   "name": "python",
   "nbconvert_exporter": "python",
   "pygments_lexer": "ipython3",
   "version": "3.8.8"
  }
 },
 "nbformat": 4,
 "nbformat_minor": 5
}
