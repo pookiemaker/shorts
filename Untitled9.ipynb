{
 "cells": [
  {
   "cell_type": "code",
   "execution_count": 1,
   "id": "242e6ce4",
   "metadata": {},
   "outputs": [
    {
     "data": {
      "text/plain": [
       "[]"
      ]
     },
     "execution_count": 1,
     "metadata": {},
     "output_type": "execute_result"
    }
   ],
   "source": [
    "mylist = []\n",
    "mylist"
   ]
  },
  {
   "cell_type": "code",
   "execution_count": 2,
   "id": "156caac2",
   "metadata": {},
   "outputs": [],
   "source": [
    "mylist.append('sdf')"
   ]
  },
  {
   "cell_type": "code",
   "execution_count": 3,
   "id": "4d3e0610",
   "metadata": {},
   "outputs": [
    {
     "data": {
      "text/plain": [
       "['sdf']"
      ]
     },
     "execution_count": 3,
     "metadata": {},
     "output_type": "execute_result"
    }
   ],
   "source": [
    "mylist"
   ]
  },
  {
   "cell_type": "code",
   "execution_count": 14,
   "id": "0694b6bb",
   "metadata": {},
   "outputs": [],
   "source": [
    "mydict = {}\n",
    "mydict['derp'] = [5, 'ape']"
   ]
  },
  {
   "cell_type": "code",
   "execution_count": 15,
   "id": "e5265543",
   "metadata": {},
   "outputs": [
    {
     "data": {
      "text/plain": [
       "{'derp': [5, 'ape']}"
      ]
     },
     "execution_count": 15,
     "metadata": {},
     "output_type": "execute_result"
    }
   ],
   "source": [
    "mydict"
   ]
  },
  {
   "cell_type": "code",
   "execution_count": 16,
   "id": "3ce89ad7",
   "metadata": {},
   "outputs": [
    {
     "data": {
      "text/plain": [
       "5"
      ]
     },
     "execution_count": 16,
     "metadata": {},
     "output_type": "execute_result"
    }
   ],
   "source": [
    "mydict['derp'][0]"
   ]
  },
  {
   "cell_type": "code",
   "execution_count": null,
   "id": "6b3e781b",
   "metadata": {},
   "outputs": [],
   "source": []
  }
 ],
 "metadata": {
  "kernelspec": {
   "display_name": "Python 3 (ipykernel)",
   "language": "python",
   "name": "python3"
  },
  "language_info": {
   "codemirror_mode": {
    "name": "ipython",
    "version": 3
   },
   "file_extension": ".py",
   "mimetype": "text/x-python",
   "name": "python",
   "nbconvert_exporter": "python",
   "pygments_lexer": "ipython3",
   "version": "3.8.11"
  }
 },
 "nbformat": 4,
 "nbformat_minor": 5
}
