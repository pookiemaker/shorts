{
 "cells": [
  {
   "cell_type": "code",
   "execution_count": 1,
   "id": "hidden-demand",
   "metadata": {},
   "outputs": [],
   "source": [
    "%matplotlib inline\n",
    "from matplotlib import pyplot as plt\n",
    "import numpy as np\n",
    "import fnmatch\n",
    "import datetime\n",
    "\n",
    "import os\n",
    "import pandas as pd\n"
   ]
  },
  {
   "cell_type": "code",
   "execution_count": 2,
   "id": "hidden-memory",
   "metadata": {},
   "outputs": [],
   "source": [
    "dd ='20210802'\n",
    "cnms = 'CNMSshvol'+dd+'.txt'\n",
    "bdir =  '/home/pookie/data/shortdata2/'\n"
   ]
  },
  {
   "cell_type": "code",
   "execution_count": 3,
   "id": "royal-canal",
   "metadata": {
    "scrolled": false
   },
   "outputs": [
    {
     "data": {
      "text/html": [
       "<div>\n",
       "<style scoped>\n",
       "    .dataframe tbody tr th:only-of-type {\n",
       "        vertical-align: middle;\n",
       "    }\n",
       "\n",
       "    .dataframe tbody tr th {\n",
       "        vertical-align: top;\n",
       "    }\n",
       "\n",
       "    .dataframe thead th {\n",
       "        text-align: right;\n",
       "    }\n",
       "</style>\n",
       "<table border=\"1\" class=\"dataframe\">\n",
       "  <thead>\n",
       "    <tr style=\"text-align: right;\">\n",
       "      <th></th>\n",
       "      <th>Date</th>\n",
       "      <th>Symbol</th>\n",
       "      <th>ShortVolume</th>\n",
       "      <th>ShortExemptVolume</th>\n",
       "      <th>TotalVolume</th>\n",
       "      <th>Market</th>\n",
       "    </tr>\n",
       "  </thead>\n",
       "  <tbody>\n",
       "    <tr>\n",
       "      <th>0</th>\n",
       "      <td>20210802</td>\n",
       "      <td>A</td>\n",
       "      <td>130596.0</td>\n",
       "      <td>0.0</td>\n",
       "      <td>345042.0</td>\n",
       "      <td>B,Q,N</td>\n",
       "    </tr>\n",
       "    <tr>\n",
       "      <th>1</th>\n",
       "      <td>20210802</td>\n",
       "      <td>AA</td>\n",
       "      <td>1054896.0</td>\n",
       "      <td>5156.0</td>\n",
       "      <td>2953021.0</td>\n",
       "      <td>B,Q,N</td>\n",
       "    </tr>\n",
       "    <tr>\n",
       "      <th>2</th>\n",
       "      <td>20210802</td>\n",
       "      <td>AAAU</td>\n",
       "      <td>27615.0</td>\n",
       "      <td>0.0</td>\n",
       "      <td>45049.0</td>\n",
       "      <td>Q,N</td>\n",
       "    </tr>\n",
       "    <tr>\n",
       "      <th>3</th>\n",
       "      <td>20210802</td>\n",
       "      <td>AAC</td>\n",
       "      <td>335.0</td>\n",
       "      <td>0.0</td>\n",
       "      <td>1709.0</td>\n",
       "      <td>Q</td>\n",
       "    </tr>\n",
       "    <tr>\n",
       "      <th>4</th>\n",
       "      <td>20210802</td>\n",
       "      <td>AAC/U</td>\n",
       "      <td>500.0</td>\n",
       "      <td>0.0</td>\n",
       "      <td>11515.0</td>\n",
       "      <td>Q</td>\n",
       "    </tr>\n",
       "    <tr>\n",
       "      <th>...</th>\n",
       "      <td>...</td>\n",
       "      <td>...</td>\n",
       "      <td>...</td>\n",
       "      <td>...</td>\n",
       "      <td>...</td>\n",
       "      <td>...</td>\n",
       "    </tr>\n",
       "    <tr>\n",
       "      <th>9869</th>\n",
       "      <td>20210802</td>\n",
       "      <td>ZY</td>\n",
       "      <td>38638.0</td>\n",
       "      <td>0.0</td>\n",
       "      <td>59221.0</td>\n",
       "      <td>B,Q,N</td>\n",
       "    </tr>\n",
       "    <tr>\n",
       "      <th>9870</th>\n",
       "      <td>20210802</td>\n",
       "      <td>ZYME</td>\n",
       "      <td>33450.0</td>\n",
       "      <td>1456.0</td>\n",
       "      <td>184884.0</td>\n",
       "      <td>B,Q,N</td>\n",
       "    </tr>\n",
       "    <tr>\n",
       "      <th>9871</th>\n",
       "      <td>20210802</td>\n",
       "      <td>ZYNE</td>\n",
       "      <td>40336.0</td>\n",
       "      <td>0.0</td>\n",
       "      <td>242801.0</td>\n",
       "      <td>B,Q,N</td>\n",
       "    </tr>\n",
       "    <tr>\n",
       "      <th>9872</th>\n",
       "      <td>20210802</td>\n",
       "      <td>ZYXI</td>\n",
       "      <td>97474.0</td>\n",
       "      <td>1990.0</td>\n",
       "      <td>209822.0</td>\n",
       "      <td>B,Q,N</td>\n",
       "    </tr>\n",
       "    <tr>\n",
       "      <th>9873</th>\n",
       "      <td>9873</td>\n",
       "      <td>NaN</td>\n",
       "      <td>NaN</td>\n",
       "      <td>NaN</td>\n",
       "      <td>NaN</td>\n",
       "      <td>NaN</td>\n",
       "    </tr>\n",
       "  </tbody>\n",
       "</table>\n",
       "<p>9874 rows × 6 columns</p>\n",
       "</div>"
      ],
      "text/plain": [
       "          Date Symbol  ShortVolume  ShortExemptVolume  TotalVolume Market\n",
       "0     20210802      A     130596.0                0.0     345042.0  B,Q,N\n",
       "1     20210802     AA    1054896.0             5156.0    2953021.0  B,Q,N\n",
       "2     20210802   AAAU      27615.0                0.0      45049.0    Q,N\n",
       "3     20210802    AAC        335.0                0.0       1709.0      Q\n",
       "4     20210802  AAC/U        500.0                0.0      11515.0      Q\n",
       "...        ...    ...          ...                ...          ...    ...\n",
       "9869  20210802     ZY      38638.0                0.0      59221.0  B,Q,N\n",
       "9870  20210802   ZYME      33450.0             1456.0     184884.0  B,Q,N\n",
       "9871  20210802   ZYNE      40336.0                0.0     242801.0  B,Q,N\n",
       "9872  20210802   ZYXI      97474.0             1990.0     209822.0  B,Q,N\n",
       "9873      9873    NaN          NaN                NaN          NaN    NaN\n",
       "\n",
       "[9874 rows x 6 columns]"
      ]
     },
     "execution_count": 3,
     "metadata": {},
     "output_type": "execute_result"
    }
   ],
   "source": [
    "f = bdir +cnms\n",
    "df = pd.read_csv(f,sep=\"|\")\n",
    "\n",
    "df"
   ]
  },
  {
   "cell_type": "code",
   "execution_count": 11,
   "id": "challenging-convergence",
   "metadata": {},
   "outputs": [
    {
     "data": {
      "text/html": [
       "<div>\n",
       "<style scoped>\n",
       "    .dataframe tbody tr th:only-of-type {\n",
       "        vertical-align: middle;\n",
       "    }\n",
       "\n",
       "    .dataframe tbody tr th {\n",
       "        vertical-align: top;\n",
       "    }\n",
       "\n",
       "    .dataframe thead th {\n",
       "        text-align: right;\n",
       "    }\n",
       "</style>\n",
       "<table border=\"1\" class=\"dataframe\">\n",
       "  <thead>\n",
       "    <tr style=\"text-align: right;\">\n",
       "      <th></th>\n",
       "      <th>Date</th>\n",
       "      <th>Symbol</th>\n",
       "      <th>ShortVolume</th>\n",
       "      <th>ShortExemptVolume</th>\n",
       "      <th>TotalVolume</th>\n",
       "      <th>Market</th>\n",
       "      <th>PercentShort</th>\n",
       "    </tr>\n",
       "  </thead>\n",
       "  <tbody>\n",
       "    <tr>\n",
       "      <th>0</th>\n",
       "      <td>20210802</td>\n",
       "      <td>A</td>\n",
       "      <td>130596.0</td>\n",
       "      <td>0.0</td>\n",
       "      <td>345042.0</td>\n",
       "      <td>B,Q,N</td>\n",
       "      <td>37.849305</td>\n",
       "    </tr>\n",
       "    <tr>\n",
       "      <th>1</th>\n",
       "      <td>20210802</td>\n",
       "      <td>AA</td>\n",
       "      <td>1054896.0</td>\n",
       "      <td>5156.0</td>\n",
       "      <td>2953021.0</td>\n",
       "      <td>B,Q,N</td>\n",
       "      <td>35.722604</td>\n",
       "    </tr>\n",
       "    <tr>\n",
       "      <th>2</th>\n",
       "      <td>20210802</td>\n",
       "      <td>AAAU</td>\n",
       "      <td>27615.0</td>\n",
       "      <td>0.0</td>\n",
       "      <td>45049.0</td>\n",
       "      <td>Q,N</td>\n",
       "      <td>61.299918</td>\n",
       "    </tr>\n",
       "    <tr>\n",
       "      <th>3</th>\n",
       "      <td>20210802</td>\n",
       "      <td>AAC</td>\n",
       "      <td>335.0</td>\n",
       "      <td>0.0</td>\n",
       "      <td>1709.0</td>\n",
       "      <td>Q</td>\n",
       "      <td>19.602106</td>\n",
       "    </tr>\n",
       "    <tr>\n",
       "      <th>4</th>\n",
       "      <td>20210802</td>\n",
       "      <td>AAC/U</td>\n",
       "      <td>500.0</td>\n",
       "      <td>0.0</td>\n",
       "      <td>11515.0</td>\n",
       "      <td>Q</td>\n",
       "      <td>4.342162</td>\n",
       "    </tr>\n",
       "    <tr>\n",
       "      <th>...</th>\n",
       "      <td>...</td>\n",
       "      <td>...</td>\n",
       "      <td>...</td>\n",
       "      <td>...</td>\n",
       "      <td>...</td>\n",
       "      <td>...</td>\n",
       "      <td>...</td>\n",
       "    </tr>\n",
       "    <tr>\n",
       "      <th>9868</th>\n",
       "      <td>20210802</td>\n",
       "      <td>ZWRKW</td>\n",
       "      <td>1106.0</td>\n",
       "      <td>0.0</td>\n",
       "      <td>1112.0</td>\n",
       "      <td>B,Q,N</td>\n",
       "      <td>99.460432</td>\n",
       "    </tr>\n",
       "    <tr>\n",
       "      <th>9869</th>\n",
       "      <td>20210802</td>\n",
       "      <td>ZY</td>\n",
       "      <td>38638.0</td>\n",
       "      <td>0.0</td>\n",
       "      <td>59221.0</td>\n",
       "      <td>B,Q,N</td>\n",
       "      <td>65.243748</td>\n",
       "    </tr>\n",
       "    <tr>\n",
       "      <th>9870</th>\n",
       "      <td>20210802</td>\n",
       "      <td>ZYME</td>\n",
       "      <td>33450.0</td>\n",
       "      <td>1456.0</td>\n",
       "      <td>184884.0</td>\n",
       "      <td>B,Q,N</td>\n",
       "      <td>18.092426</td>\n",
       "    </tr>\n",
       "    <tr>\n",
       "      <th>9871</th>\n",
       "      <td>20210802</td>\n",
       "      <td>ZYNE</td>\n",
       "      <td>40336.0</td>\n",
       "      <td>0.0</td>\n",
       "      <td>242801.0</td>\n",
       "      <td>B,Q,N</td>\n",
       "      <td>16.612782</td>\n",
       "    </tr>\n",
       "    <tr>\n",
       "      <th>9872</th>\n",
       "      <td>20210802</td>\n",
       "      <td>ZYXI</td>\n",
       "      <td>97474.0</td>\n",
       "      <td>1990.0</td>\n",
       "      <td>209822.0</td>\n",
       "      <td>B,Q,N</td>\n",
       "      <td>46.455567</td>\n",
       "    </tr>\n",
       "  </tbody>\n",
       "</table>\n",
       "<p>9873 rows × 7 columns</p>\n",
       "</div>"
      ],
      "text/plain": [
       "          Date Symbol  ShortVolume  ShortExemptVolume  TotalVolume Market  \\\n",
       "0     20210802      A     130596.0                0.0     345042.0  B,Q,N   \n",
       "1     20210802     AA    1054896.0             5156.0    2953021.0  B,Q,N   \n",
       "2     20210802   AAAU      27615.0                0.0      45049.0    Q,N   \n",
       "3     20210802    AAC        335.0                0.0       1709.0      Q   \n",
       "4     20210802  AAC/U        500.0                0.0      11515.0      Q   \n",
       "...        ...    ...          ...                ...          ...    ...   \n",
       "9868  20210802  ZWRKW       1106.0                0.0       1112.0  B,Q,N   \n",
       "9869  20210802     ZY      38638.0                0.0      59221.0  B,Q,N   \n",
       "9870  20210802   ZYME      33450.0             1456.0     184884.0  B,Q,N   \n",
       "9871  20210802   ZYNE      40336.0                0.0     242801.0  B,Q,N   \n",
       "9872  20210802   ZYXI      97474.0             1990.0     209822.0  B,Q,N   \n",
       "\n",
       "      PercentShort  \n",
       "0        37.849305  \n",
       "1        35.722604  \n",
       "2        61.299918  \n",
       "3        19.602106  \n",
       "4         4.342162  \n",
       "...            ...  \n",
       "9868     99.460432  \n",
       "9869     65.243748  \n",
       "9870     18.092426  \n",
       "9871     16.612782  \n",
       "9872     46.455567  \n",
       "\n",
       "[9873 rows x 7 columns]"
      ]
     },
     "execution_count": 11,
     "metadata": {},
     "output_type": "execute_result"
    }
   ],
   "source": [
    "sev = df['ShortExemptVolume']\n",
    "tv = df['TotalVolume']\n",
    "sv = df['ShortVolume']\n",
    "df2 =df\n",
    "df2['PercentShort']=sv/tv*100\n",
    "#df2['PercentShort']=sev/tv\n",
    "df2 = df2.dropna()\n",
    "df2"
   ]
  },
  {
   "cell_type": "code",
   "execution_count": 12,
   "id": "focal-bradford",
   "metadata": {},
   "outputs": [
    {
     "data": {
      "text/html": [
       "<div>\n",
       "<style scoped>\n",
       "    .dataframe tbody tr th:only-of-type {\n",
       "        vertical-align: middle;\n",
       "    }\n",
       "\n",
       "    .dataframe tbody tr th {\n",
       "        vertical-align: top;\n",
       "    }\n",
       "\n",
       "    .dataframe thead th {\n",
       "        text-align: right;\n",
       "    }\n",
       "</style>\n",
       "<table border=\"1\" class=\"dataframe\">\n",
       "  <thead>\n",
       "    <tr style=\"text-align: right;\">\n",
       "      <th></th>\n",
       "      <th>Date</th>\n",
       "      <th>Symbol</th>\n",
       "      <th>ShortVolume</th>\n",
       "      <th>ShortExemptVolume</th>\n",
       "      <th>TotalVolume</th>\n",
       "      <th>Market</th>\n",
       "      <th>PercentShort</th>\n",
       "    </tr>\n",
       "  </thead>\n",
       "  <tbody>\n",
       "    <tr>\n",
       "      <th>3849</th>\n",
       "      <td>20210802</td>\n",
       "      <td>GME</td>\n",
       "      <td>623709.0</td>\n",
       "      <td>6353.0</td>\n",
       "      <td>1155891.0</td>\n",
       "      <td>B,Q,N</td>\n",
       "      <td>53.959154</td>\n",
       "    </tr>\n",
       "  </tbody>\n",
       "</table>\n",
       "</div>"
      ],
      "text/plain": [
       "          Date Symbol  ShortVolume  ShortExemptVolume  TotalVolume Market  \\\n",
       "3849  20210802    GME     623709.0             6353.0    1155891.0  B,Q,N   \n",
       "\n",
       "      PercentShort  \n",
       "3849     53.959154  "
      ]
     },
     "execution_count": 12,
     "metadata": {},
     "output_type": "execute_result"
    }
   ],
   "source": [
    "GME = df2[df2['Symbol']==('GME')]\n",
    "GME"
   ]
  },
  {
   "cell_type": "code",
   "execution_count": 13,
   "id": "objective-impact",
   "metadata": {},
   "outputs": [
    {
     "data": {
      "text/plain": [
       "Text(0.5, 1.0, 'Histogram Short Percentages for the Day 20210802 across market')"
      ]
     },
     "execution_count": 13,
     "metadata": {},
     "output_type": "execute_result"
    },
    {
     "data": {
      "image/png": "[encoded data removed]",
      "text/plain": [
       "<Figure size 1080x360 with 1 Axes>"
      ]
     },
     "metadata": {
      "needs_background": "light"
     },
     "output_type": "display_data"
    }
   ],
   "source": [
    "plt.figure(figsize=(15,5))\n",
    "per = df2['PercentShort']\n",
    "n, bins, patches = plt.hist(per, bins=100);\n",
    "xx = int(GME['PercentShort'])\n",
    "nn = n[xx]\n",
    "patches[xx].set_fc('r')\n",
    "\n",
    "# Add annotation\n",
    "plt.annotate('GME', xy=(xx, nn), xytext=(xx+10, nn+20), \n",
    "             fontsize=15, arrowprops={'width':0.4,'headwidth':7,'color':'#333333'})\n",
    "plt.ylabel('Number of Tickers Per Bin')\n",
    "plt.xlabel('Percent Short aka Bin')\n",
    "plt.title('Histogram Short Percentages for the Day {} across market'.format(dd))"
   ]
  },
  {
   "cell_type": "code",
   "execution_count": 14,
   "id": "olive-referral",
   "metadata": {},
   "outputs": [
    {
     "data": {
      "text/plain": [
       "150.0"
      ]
     },
     "execution_count": 14,
     "metadata": {},
     "output_type": "execute_result"
    }
   ],
   "source": [
    "n[50]"
   ]
  },
  {
   "cell_type": "code",
   "execution_count": 8,
   "id": "occupational-programmer",
   "metadata": {},
   "outputs": [
    {
     "data": {
      "text/plain": [
       "[<matplotlib.lines.Line2D at 0x7fb7ab898550>]"
      ]
     },
     "execution_count": 8,
     "metadata": {},
     "output_type": "execute_result"
    },
    {
     "data": {
      "image/png": "[encoded data removed]",
      "text/plain": [
       "<Figure size 1080x360 with 1 Axes>"
      ]
     },
     "metadata": {
      "needs_background": "light"
     },
     "output_type": "display_data"
    }
   ],
   "source": [
    "plt.figure(figsize=(15,5))\n",
    "plt.plot(per)"
   ]
  },
  {
   "cell_type": "code",
   "execution_count": 9,
   "id": "dressed-warren",
   "metadata": {},
   "outputs": [
    {
     "data": {
      "text/html": [
       "<div>\n",
       "<style scoped>\n",
       "    .dataframe tbody tr th:only-of-type {\n",
       "        vertical-align: middle;\n",
       "    }\n",
       "\n",
       "    .dataframe tbody tr th {\n",
       "        vertical-align: top;\n",
       "    }\n",
       "\n",
       "    .dataframe thead th {\n",
       "        text-align: right;\n",
       "    }\n",
       "</style>\n",
       "<table border=\"1\" class=\"dataframe\">\n",
       "  <thead>\n",
       "    <tr style=\"text-align: right;\">\n",
       "      <th></th>\n",
       "      <th>Date</th>\n",
       "      <th>Symbol</th>\n",
       "      <th>ShortVolume</th>\n",
       "      <th>ShortExemptVolume</th>\n",
       "      <th>TotalVolume</th>\n",
       "      <th>Market</th>\n",
       "      <th>PercentShort</th>\n",
       "    </tr>\n",
       "  </thead>\n",
       "  <tbody>\n",
       "  </tbody>\n",
       "</table>\n",
       "</div>"
      ],
      "text/plain": [
       "Empty DataFrame\n",
       "Columns: [Date, Symbol, ShortVolume, ShortExemptVolume, TotalVolume, Market, PercentShort]\n",
       "Index: []"
      ]
     },
     "execution_count": 9,
     "metadata": {},
     "output_type": "execute_result"
    }
   ],
   "source": [
    "mask = df['PercentShort']>70\n",
    "df_highshort = df[mask]\n",
    "mask = df_highshort['TotalVolume']>1000000\n",
    "df_x = df_highshort[mask]\n",
    "df_x.sort_values(by=['PercentShort'], ascending=False)"
   ]
  },
  {
   "cell_type": "code",
   "execution_count": null,
   "id": "oriented-reservoir",
   "metadata": {},
   "outputs": [],
   "source": []
  },
  {
   "cell_type": "markdown",
   "id": "grateful-scientist",
   "metadata": {},
   "source": []
  },
  {
   "cell_type": "code",
   "execution_count": null,
   "id": "entertaining-question",
   "metadata": {},
   "outputs": [],
   "source": []
  }
 ],
 "metadata": {
  "kernelspec": {
   "display_name": "Python 3",
   "language": "python",
   "name": "python3"
  },
  "language_info": {
   "codemirror_mode": {
    "name": "ipython",
    "version": 3
   },
   "file_extension": ".py",
   "mimetype": "text/x-python",
   "name": "python",
   "nbconvert_exporter": "python",
   "pygments_lexer": "ipython3",
   "version": "3.8.8"
  }
 },
 "nbformat": 4,
 "nbformat_minor": 5
}
