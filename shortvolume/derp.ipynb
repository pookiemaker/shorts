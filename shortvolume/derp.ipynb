{
 "cells": [
  {
   "cell_type": "code",
   "execution_count": 1,
   "id": "ee9c4b3c",
   "metadata": {},
   "outputs": [],
   "source": [
    "%matplotlib inline\n",
    "import numpy as np\n",
    "from matplotlib import pyplot as plt\n",
    "import pandas as pd\n",
    "import os "
   ]
  },
  {
   "cell_type": "code",
   "execution_count": 2,
   "id": "690d30d9",
   "metadata": {},
   "outputs": [],
   "source": [
    "filename = '/home/pookie/git/shorts/shortvolume/shortdata/FNSQ/FNSQshvol20090803.txt'\n",
    "\n",
    "f = open(filename)\n",
    "df = pd.read_csv(f,sep=\"|\")"
   ]
  },
  {
   "cell_type": "code",
   "execution_count": 3,
   "id": "241eb842",
   "metadata": {},
   "outputs": [],
   "source": [
    "derp = df['Symbol']\n",
    "for symbol in derp[:10]:\n",
    "    os\n"
   ]
  },
  {
   "cell_type": "code",
   "execution_count": 4,
   "id": "e67c00fa",
   "metadata": {},
   "outputs": [
    {
     "name": "stdout",
     "output_type": "stream",
     "text": [
      "path: symboldata/GME_data\n",
      "Path already exists\n",
      "CNMS\n",
      "shortdata/CNMS\n",
      "     zip  ...                                logo_url\n",
      "0  76051  ...  https://logo.clearbit.com/gamestop.com\n",
      "\n",
      "[1 rows x 150 columns]\n",
      "FNQC\n",
      "shortdata/FNQC\n",
      "     zip  ...                                logo_url\n",
      "0  76051  ...  https://logo.clearbit.com/gamestop.com\n",
      "\n",
      "[1 rows x 150 columns]\n",
      "FNRA\n",
      "shortdata/FNRA\n",
      "     zip  ...                                logo_url\n",
      "0  76051  ...  https://logo.clearbit.com/gamestop.com\n",
      "\n",
      "[1 rows x 150 columns]\n",
      "FNSQ\n",
      "shortdata/FNSQ\n",
      "failed: FNSQshvol20101122.txt\n",
      "     zip  ...                                logo_url\n",
      "0  76051  ...  https://logo.clearbit.com/gamestop.com\n",
      "\n",
      "[1 rows x 150 columns]\n",
      "FNYX\n",
      "shortdata/FNYX\n",
      "     zip  ...                                logo_url\n",
      "0  76051  ...  https://logo.clearbit.com/gamestop.com\n",
      "\n",
      "[1 rows x 150 columns]\n",
      "FORF\n",
      "shortdata/FORF\n",
      "failed: FORFshvol20101122.txt\n",
      "     zip  ...                                logo_url\n",
      "0  76051  ...  https://logo.clearbit.com/gamestop.com\n",
      "\n",
      "[1 rows x 150 columns]\n",
      "Figure(640x480)\n"
     ]
    }
   ],
   "source": [
    "!python '/home/pookie/git/shorts/shortvolume/extractSymbolData.py'"
   ]
  },
  {
   "cell_type": "code",
   "execution_count": 5,
   "id": "2df24f93",
   "metadata": {},
   "outputs": [
    {
     "data": {
      "text/plain": [
       "'/home/pookie/git/shorts/shortvolume'"
      ]
     },
     "execution_count": 5,
     "metadata": {},
     "output_type": "execute_result"
    }
   ],
   "source": [
    "pwd"
   ]
  },
  {
   "cell_type": "code",
   "execution_count": null,
   "id": "65c171ba",
   "metadata": {},
   "outputs": [],
   "source": []
  }
 ],
 "metadata": {
  "kernelspec": {
   "display_name": "Python 3 (ipykernel)",
   "language": "python",
   "name": "python3"
  },
  "language_info": {
   "codemirror_mode": {
    "name": "ipython",
    "version": 3
   },
   "file_extension": ".py",
   "mimetype": "text/x-python",
   "name": "python",
   "nbconvert_exporter": "python",
   "pygments_lexer": "ipython3",
   "version": "3.8.11"
  }
 },
 "nbformat": 4,
 "nbformat_minor": 5
}
