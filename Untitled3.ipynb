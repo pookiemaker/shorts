{
 "cells": [
  {
   "cell_type": "markdown",
   "id": "847e326b",
   "metadata": {},
   "source": [
    "# Finding Anamolies in Short Volume"
   ]
  },
  {
   "cell_type": "markdown",
   "id": "26f99f50",
   "metadata": {},
   "source": [
    "GME according to the SEC is providing an idioscyractic risk to the markets. \n",
    "\n",
    "GME according to the APEs is shorted all to hell, and the SHFs are hiding the truth. \n",
    "\n",
    "FINRA data shows wierd behavior when GME is compared to TSLA, AMC, BBY, and others. \n",
    "\n",
    "\n",
    "### Short Volume vs Short Interest\n",
    "**Short Volume** is the daily reported amount of shares sold short for the day. \n",
    "\n",
    "**Short Interest** is the twice a month self reported number of shorts held by large institutions. \n",
    "\n",
    "**Synthetic shares** Basically counterfeit shares diluting the real shares. These can be manufactured in a host of ways. -- Read DD links. \n",
    "\n",
    "\n",
    "### Study\n",
    "For the first chapter we will introduce GME short interest over time and compare it with Best Buy (BBY), AMC, and Tesla (TSLA). Just to show the share percentages. "
   ]
  },
  {
   "cell_type": "code",
   "execution_count": null,
   "id": "d8b49e80",
   "metadata": {},
   "outputs": [],
   "source": []
  }
 ],
 "metadata": {
  "kernelspec": {
   "display_name": "Python 3 (ipykernel)",
   "language": "python",
   "name": "python3"
  },
  "language_info": {
   "codemirror_mode": {
    "name": "ipython",
    "version": 3
   },
   "file_extension": ".py",
   "mimetype": "text/x-python",
   "name": "python",
   "nbconvert_exporter": "python",
   "pygments_lexer": "ipython3",
   "version": "3.8.11"
  }
 },
 "nbformat": 4,
 "nbformat_minor": 5
}
