{
 "cells": [
  {
   "cell_type": "code",
   "execution_count": 13,
   "id": "ee9c4b3c",
   "metadata": {},
   "outputs": [],
   "source": [
    "%matplotlib inline\n",
    "import numpy as np\n",
    "from matplotlib import pyplot as plt\n",
    "import pandas as pd\n",
    "import os "
   ]
  },
  {
   "cell_type": "code",
   "execution_count": 14,
   "id": "690d30d9",
   "metadata": {},
   "outputs": [],
   "source": [
    "filename = '/home/pookie/git/shorts/shortvolume/shortdata/FNSQ/FNSQshvol20090803.txt'\n",
    "\n",
    "f = open(filename)\n",
    "df = pd.read_csv(f,sep=\"|\")"
   ]
  },
  {
   "cell_type": "code",
   "execution_count": 15,
   "id": "241eb842",
   "metadata": {},
   "outputs": [],
   "source": [
    "derp = df['Symbol']\n",
    "for symbol in derp[:10]:\n",
    "    os\n"
   ]
  },
  {
   "cell_type": "code",
   "execution_count": 16,
   "id": "e67c00fa",
   "metadata": {},
   "outputs": [
    {
     "name": "stdout",
     "output_type": "stream",
     "text": [
      "path: symboldata/GME_data\n",
      "Path already exists\n",
      "CNMS\n",
      "shortdata/CNMS\n",
      "Traceback (most recent call last):\n",
      "  File \"/home/pookie/git/shorts/shortvolume/extractSymbolData.py\", line 149, in <module>\n",
      "    main(start_date, end_date, exchanges, shortdata, symbol, output_dir, path, graphics =True)\n",
      "  File \"/home/pookie/git/shorts/shortvolume/extractSymbolData.py\", line 88, in main\n",
      "    df = get_df(sdir, prefix, x, symbol)\n",
      "  File \"/home/pookie/git/shorts/shortvolume/extractSymbolData.py\", line 55, in get_df\n",
      "    for file in os.listdir(sdir):\n",
      "FileNotFoundError: [Errno 2] No such file or directory: 'shortdata/CNMS'\n"
     ]
    }
   ],
   "source": [
    "!python '/home/pookie/git/shorts/shortvolume/extractSymbolData.py'"
   ]
  },
  {
   "cell_type": "code",
   "execution_count": 17,
   "id": "2df24f93",
   "metadata": {},
   "outputs": [
    {
     "data": {
      "text/plain": [
       "'/home/pookie/git/shorts/Untitled Folder'"
      ]
     },
     "execution_count": 17,
     "metadata": {},
     "output_type": "execute_result"
    }
   ],
   "source": [
    "pwd"
   ]
  },
  {
   "cell_type": "code",
   "execution_count": null,
   "id": "65c171ba",
   "metadata": {},
   "outputs": [],
   "source": []
  }
 ],
 "metadata": {
  "kernelspec": {
   "display_name": "Python 3 (ipykernel)",
   "language": "python",
   "name": "python3"
  },
  "language_info": {
   "codemirror_mode": {
    "name": "ipython",
    "version": 3
   },
   "file_extension": ".py",
   "mimetype": "text/x-python",
   "name": "python",
   "nbconvert_exporter": "python",
   "pygments_lexer": "ipython3",
   "version": "3.8.11"
  }
 },
 "nbformat": 4,
 "nbformat_minor": 5
}
