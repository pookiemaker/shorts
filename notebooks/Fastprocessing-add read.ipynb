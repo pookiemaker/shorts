{
 "cells": [
  {
   "cell_type": "code",
   "execution_count": 9,
   "id": "71cce116",
   "metadata": {},
   "outputs": [],
   "source": [
    "import pandas as pd\n",
    "import os\n",
    "import datetime as dt\n",
    "date_fmt ='%Y%m%d'\n",
    "import time"
   ]
  },
  {
   "cell_type": "code",
   "execution_count": 10,
   "id": "fb80433f",
   "metadata": {},
   "outputs": [],
   "source": [
    "def getListOfFiles(dirName):\n",
    "    # create a list of file and sub directories \n",
    "    # names in the given directory \n",
    "    listOfFile = os.listdir(dirName)\n",
    "    allFiles = list()\n",
    "    # Iterate over all the entries\n",
    "    for entry in listOfFile:\n",
    "        # Create full path\n",
    "        fullPath = os.path.join(dirName, entry)\n",
    "        # If entry is a directory then get the list of files in this directory \n",
    "        if os.path.isdir(fullPath):\n",
    "            allFiles = allFiles + getListOfFiles(fullPath)\n",
    "        else:\n",
    "            allFiles.append(fullPath)\n",
    "                \n",
    "    return allFiles"
   ]
  },
  {
   "cell_type": "code",
   "execution_count": 11,
   "id": "a666dc29",
   "metadata": {},
   "outputs": [],
   "source": [
    "path ='shortdata'\n",
    "exch ='CNMS'\n",
    "findme = os.path.join(path,exch)\n",
    "derp = getListOfFiles(findme)"
   ]
  },
  {
   "cell_type": "code",
   "execution_count": 15,
   "id": "b7071d27",
   "metadata": {},
   "outputs": [],
   "source": [
    "# create empty list\n",
    "dataframes_list = []\n",
    "\n",
    "    \n",
    "for file in derp:\n",
    "    working = open(file,'r')\n",
    "    temp_df = pd.read_csv(file, delimiter='|',skipfooter=1, engine='python')\n",
    "    dataframes_list.append(temp_df)\n",
    "df = pd.concat(dataframes_list)\n",
    "df[\"Date\"] = pd.to_datetime(df[\"Date\"], format='%Y%m%d')"
   ]
  },
  {
   "cell_type": "code",
   "execution_count": 16,
   "id": "6fda81f9",
   "metadata": {},
   "outputs": [],
   "source": [
    "Symbols = df.Symbol.unique()\n",
    "Symbols\n",
    "\n",
    "gk = df.groupby('Symbol')"
   ]
  },
  {
   "cell_type": "code",
   "execution_count": 17,
   "id": "00a76e6a",
   "metadata": {},
   "outputs": [
    {
     "data": {
      "text/html": [
       "<div>\n",
       "<style scoped>\n",
       "    .dataframe tbody tr th:only-of-type {\n",
       "        vertical-align: middle;\n",
       "    }\n",
       "\n",
       "    .dataframe tbody tr th {\n",
       "        vertical-align: top;\n",
       "    }\n",
       "\n",
       "    .dataframe thead th {\n",
       "        text-align: right;\n",
       "    }\n",
       "</style>\n",
       "<table border=\"1\" class=\"dataframe\">\n",
       "  <thead>\n",
       "    <tr style=\"text-align: right;\">\n",
       "      <th></th>\n",
       "      <th>Date</th>\n",
       "      <th>Symbol</th>\n",
       "      <th>ShortVolume</th>\n",
       "      <th>ShortExemptVolume</th>\n",
       "      <th>TotalVolume</th>\n",
       "      <th>Market</th>\n",
       "    </tr>\n",
       "  </thead>\n",
       "  <tbody>\n",
       "    <tr>\n",
       "      <th>4955</th>\n",
       "      <td>2021-12-08</td>\n",
       "      <td>ITQRU</td>\n",
       "      <td>1000</td>\n",
       "      <td>1000</td>\n",
       "      <td>4950</td>\n",
       "      <td>Q</td>\n",
       "    </tr>\n",
       "  </tbody>\n",
       "</table>\n",
       "</div>"
      ],
      "text/plain": [
       "           Date Symbol  ShortVolume  ShortExemptVolume  TotalVolume Market\n",
       "4955 2021-12-08  ITQRU         1000               1000         4950      Q"
      ]
     },
     "execution_count": 17,
     "metadata": {},
     "output_type": "execute_result"
    }
   ],
   "source": [
    "starttime = time.time()\n",
    "list_time = []\n",
    "list_df = []\n",
    "counter = 0 \n",
    "for symbol in Symbols: \n",
    "    counter += 1 \n",
    "    sgk = gk.get_group(symbol)\n",
    "    sgk = sgk.sort_values(by='Date')\n",
    "\n",
    "    list_time.append(time.time()-starttime)\n",
    "    #df = df.drop(df[df['Symbol'] == symbol].index)\n",
    "    \n",
    "\n",
    "\n",
    "sgk.head()"
   ]
  },
  {
   "cell_type": "code",
   "execution_count": 18,
   "id": "92ebc9c6",
   "metadata": {},
   "outputs": [
    {
     "data": {
      "text/plain": [
       "[<matplotlib.lines.Line2D at 0x7fd812388e50>]"
      ]
     },
     "execution_count": 18,
     "metadata": {},
     "output_type": "execute_result"
    },
    {
     "data": {
      "image/png": "[encoded data removed]",
      "text/plain": [
       "<Figure size 432x288 with 1 Axes>"
      ]
     },
     "metadata": {
      "needs_background": "light"
     },
     "output_type": "display_data"
    }
   ],
   "source": [
    "from matplotlib import pyplot as plt\n",
    "import numpy as np\n",
    "np_time = np.array(list_time)\n",
    "plt.plot(np_time[:-2]-np_time[2:])"
   ]
  },
  {
   "cell_type": "code",
   "execution_count": 16,
   "id": "83fa51bc",
   "metadata": {},
   "outputs": [],
   "source": [
    "path = '/home/pookie/git/shorts/FastSorting/stockdata'\n",
    "filename = 'CNMS0_data.csv'\n",
    "pathf = os.path.join(path,filename)\n",
    "dd = pd.read_csv(pathf)\n",
    "gg = dd[['symbol','sharesOutstanding']]"
   ]
  },
  {
   "cell_type": "code",
   "execution_count": 30,
   "id": "d7b09e57",
   "metadata": {},
   "outputs": [
    {
     "data": {
      "text/plain": [
       "34500000.0"
      ]
     },
     "execution_count": 30,
     "metadata": {},
     "output_type": "execute_result"
    }
   ],
   "source": [
    "for row in gg.iterrows():\n",
    "    pass\n",
    "row[1].sharesOutstanding"
   ]
  },
  {
   "cell_type": "code",
   "execution_count": 21,
   "id": "6d9a1883",
   "metadata": {},
   "outputs": [
    {
     "name": "stdout",
     "output_type": "stream",
     "text": [
      "Empty DataFrame\n",
      "Columns: []\n",
      "Index: []\n",
      "=== new row ===\n",
      "A\n",
      "=============\n",
      "A Share Outstating: 302000992\n",
      "=== new row ===\n",
      "AA\n",
      "=============\n",
      "AA Share Outstating: 187103008\n",
      "=== new row ===\n",
      "AAA\n",
      " ::  Problem with yf.Ticker(AAA).info\n",
      "=== new row ===\n",
      "AAAU\n",
      " ::  Problem with yf.Ticker(AAAU).info\n",
      "=== new row ===\n",
      "AAC\n",
      "=============\n",
      "AAC Share Outstating: 100000000\n",
      "=== new row ===\n",
      "AAC/WS\n",
      "=============\n",
      "AAC/WS Share Outstating: 100000000\n",
      "=== new row ===\n",
      "AACG\n",
      "=============\n",
      "AACG Share Outstating: 31376900\n",
      "=== new row ===\n",
      "AACIW\n",
      " ::  Problem with yf.Ticker(AACIW).info\n",
      "=== new row ===\n",
      "AADI\n",
      "=============\n",
      "AADI Share Outstating: 20894000\n",
      "=== new row ===\n",
      "AADR\n",
      " ::  Problem with yf.Ticker(AADR).info\n"
     ]
    },
    {
     "data": {
      "text/html": [
       "<div>\n",
       "<style scoped>\n",
       "    .dataframe tbody tr th:only-of-type {\n",
       "        vertical-align: middle;\n",
       "    }\n",
       "\n",
       "    .dataframe tbody tr th {\n",
       "        vertical-align: top;\n",
       "    }\n",
       "\n",
       "    .dataframe thead th {\n",
       "        text-align: right;\n",
       "    }\n",
       "</style>\n",
       "<table border=\"1\" class=\"dataframe\">\n",
       "  <thead>\n",
       "    <tr style=\"text-align: right;\">\n",
       "      <th></th>\n",
       "      <th>zip</th>\n",
       "      <th>sector</th>\n",
       "      <th>fullTimeEmployees</th>\n",
       "      <th>longBusinessSummary</th>\n",
       "      <th>city</th>\n",
       "      <th>phone</th>\n",
       "      <th>state</th>\n",
       "      <th>country</th>\n",
       "      <th>companyOfficers</th>\n",
       "      <th>website</th>\n",
       "      <th>...</th>\n",
       "      <th>fiveYearAvgDividendYield</th>\n",
       "      <th>fiftyTwoWeekLow</th>\n",
       "      <th>bid</th>\n",
       "      <th>tradeable</th>\n",
       "      <th>dividendYield</th>\n",
       "      <th>bidSize</th>\n",
       "      <th>dayHigh</th>\n",
       "      <th>regularMarketPrice</th>\n",
       "      <th>logo_url</th>\n",
       "      <th>address2</th>\n",
       "    </tr>\n",
       "  </thead>\n",
       "  <tbody>\n",
       "    <tr>\n",
       "      <th>0</th>\n",
       "      <td>95051</td>\n",
       "      <td>Healthcare</td>\n",
       "      <td>17000</td>\n",
       "      <td>Agilent Technologies, Inc. provides applicatio...</td>\n",
       "      <td>Santa Clara</td>\n",
       "      <td>800 227 9770</td>\n",
       "      <td>CA</td>\n",
       "      <td>United States</td>\n",
       "      <td>[]</td>\n",
       "      <td>https://www.agilent.com</td>\n",
       "      <td>...</td>\n",
       "      <td>0.77</td>\n",
       "      <td>112.47</td>\n",
       "      <td>140.03</td>\n",
       "      <td>False</td>\n",
       "      <td>0.0056</td>\n",
       "      <td>1000</td>\n",
       "      <td>145.14</td>\n",
       "      <td>144.68</td>\n",
       "      <td>https://logo.clearbit.com/agilent.com</td>\n",
       "      <td>NaN</td>\n",
       "    </tr>\n",
       "    <tr>\n",
       "      <th>1</th>\n",
       "      <td>15212-5858</td>\n",
       "      <td>Basic Materials</td>\n",
       "      <td>12900</td>\n",
       "      <td>Alcoa Corporation, together with its subsidiar...</td>\n",
       "      <td>Pittsburgh</td>\n",
       "      <td>412-315-2900</td>\n",
       "      <td>PA</td>\n",
       "      <td>United States</td>\n",
       "      <td>[]</td>\n",
       "      <td>https://www.alcoa.com</td>\n",
       "      <td>...</td>\n",
       "      <td>None</td>\n",
       "      <td>17.3</td>\n",
       "      <td>61.31</td>\n",
       "      <td>False</td>\n",
       "      <td>0.0066</td>\n",
       "      <td>1800</td>\n",
       "      <td>61.44</td>\n",
       "      <td>61.39</td>\n",
       "      <td>https://logo.clearbit.com/alcoa.com</td>\n",
       "      <td>Suite 500</td>\n",
       "    </tr>\n",
       "    <tr>\n",
       "      <th>2</th>\n",
       "      <td>10167</td>\n",
       "      <td>Financial Services</td>\n",
       "      <td>NaN</td>\n",
       "      <td>Ares Acquisition Corporation focuses on effect...</td>\n",
       "      <td>New York</td>\n",
       "      <td>310 201 4100</td>\n",
       "      <td>NY</td>\n",
       "      <td>United States</td>\n",
       "      <td>[]</td>\n",
       "      <td>https://www.aresacquisitioncorporation.com</td>\n",
       "      <td>...</td>\n",
       "      <td>None</td>\n",
       "      <td>9.5</td>\n",
       "      <td>9.74</td>\n",
       "      <td>False</td>\n",
       "      <td>None</td>\n",
       "      <td>2200</td>\n",
       "      <td>9.759</td>\n",
       "      <td>9.74</td>\n",
       "      <td>https://logo.clearbit.com/aresacquisitioncorpo...</td>\n",
       "      <td>44th Floor</td>\n",
       "    </tr>\n",
       "    <tr>\n",
       "      <th>3</th>\n",
       "      <td>10167</td>\n",
       "      <td>Financial Services</td>\n",
       "      <td>NaN</td>\n",
       "      <td>Ares Acquisition Corporation focuses on effect...</td>\n",
       "      <td>New York</td>\n",
       "      <td>310 201 4100</td>\n",
       "      <td>NY</td>\n",
       "      <td>United States</td>\n",
       "      <td>[]</td>\n",
       "      <td>https://www.aresacquisitioncorporation.com</td>\n",
       "      <td>...</td>\n",
       "      <td>None</td>\n",
       "      <td>9.5</td>\n",
       "      <td>9.74</td>\n",
       "      <td>False</td>\n",
       "      <td>None</td>\n",
       "      <td>2200</td>\n",
       "      <td>9.759</td>\n",
       "      <td>9.74</td>\n",
       "      <td>https://logo.clearbit.com/aresacquisitioncorpo...</td>\n",
       "      <td>44th Floor</td>\n",
       "    </tr>\n",
       "    <tr>\n",
       "      <th>4</th>\n",
       "      <td>100022</td>\n",
       "      <td>Consumer Defensive</td>\n",
       "      <td>580</td>\n",
       "      <td>ATA Creativity Global, together with its subsi...</td>\n",
       "      <td>Beijing</td>\n",
       "      <td>86 10 6518 1133</td>\n",
       "      <td>NaN</td>\n",
       "      <td>China</td>\n",
       "      <td>[]</td>\n",
       "      <td>https://www.atai.net.cn</td>\n",
       "      <td>...</td>\n",
       "      <td>None</td>\n",
       "      <td>1</td>\n",
       "      <td>1.87</td>\n",
       "      <td>False</td>\n",
       "      <td>None</td>\n",
       "      <td>1200</td>\n",
       "      <td>2.09</td>\n",
       "      <td>1.91</td>\n",
       "      <td>https://logo.clearbit.com/atai.net.cn</td>\n",
       "      <td>East Gate, Floor 1 Jian Wai Soho No.39 Dong Sa...</td>\n",
       "    </tr>\n",
       "  </tbody>\n",
       "</table>\n",
       "<p>5 rows × 154 columns</p>\n",
       "</div>"
      ],
      "text/plain": [
       "          zip              sector fullTimeEmployees  \\\n",
       "0       95051          Healthcare             17000   \n",
       "1  15212-5858     Basic Materials             12900   \n",
       "2       10167  Financial Services               NaN   \n",
       "3       10167  Financial Services               NaN   \n",
       "4      100022  Consumer Defensive               580   \n",
       "\n",
       "                                 longBusinessSummary         city  \\\n",
       "0  Agilent Technologies, Inc. provides applicatio...  Santa Clara   \n",
       "1  Alcoa Corporation, together with its subsidiar...   Pittsburgh   \n",
       "2  Ares Acquisition Corporation focuses on effect...     New York   \n",
       "3  Ares Acquisition Corporation focuses on effect...     New York   \n",
       "4  ATA Creativity Global, together with its subsi...      Beijing   \n",
       "\n",
       "             phone state        country companyOfficers  \\\n",
       "0     800 227 9770    CA  United States              []   \n",
       "1     412-315-2900    PA  United States              []   \n",
       "2     310 201 4100    NY  United States              []   \n",
       "3     310 201 4100    NY  United States              []   \n",
       "4  86 10 6518 1133   NaN          China              []   \n",
       "\n",
       "                                      website  ... fiveYearAvgDividendYield  \\\n",
       "0                     https://www.agilent.com  ...                     0.77   \n",
       "1                       https://www.alcoa.com  ...                     None   \n",
       "2  https://www.aresacquisitioncorporation.com  ...                     None   \n",
       "3  https://www.aresacquisitioncorporation.com  ...                     None   \n",
       "4                     https://www.atai.net.cn  ...                     None   \n",
       "\n",
       "  fiftyTwoWeekLow     bid tradeable dividendYield bidSize dayHigh  \\\n",
       "0          112.47  140.03     False        0.0056    1000  145.14   \n",
       "1            17.3   61.31     False        0.0066    1800   61.44   \n",
       "2             9.5    9.74     False          None    2200   9.759   \n",
       "3             9.5    9.74     False          None    2200   9.759   \n",
       "4               1    1.87     False          None    1200    2.09   \n",
       "\n",
       "  regularMarketPrice                                           logo_url  \\\n",
       "0             144.68              https://logo.clearbit.com/agilent.com   \n",
       "1              61.39                https://logo.clearbit.com/alcoa.com   \n",
       "2               9.74  https://logo.clearbit.com/aresacquisitioncorpo...   \n",
       "3               9.74  https://logo.clearbit.com/aresacquisitioncorpo...   \n",
       "4               1.91              https://logo.clearbit.com/atai.net.cn   \n",
       "\n",
       "                                            address2  \n",
       "0                                                NaN  \n",
       "1                                          Suite 500  \n",
       "2                                         44th Floor  \n",
       "3                                         44th Floor  \n",
       "4  East Gate, Floor 1 Jian Wai Soho No.39 Dong Sa...  \n",
       "\n",
       "[5 rows x 154 columns]"
      ]
     },
     "execution_count": 21,
     "metadata": {},
     "output_type": "execute_result"
    }
   ],
   "source": [
    "\n",
    "\n",
    "main_df = pd.DataFrame()\n",
    "\n",
    "print(main_df.head())\n",
    "for symbol in Symbols[:10]:\n",
    "    print('=== new row ===')\n",
    "    print(symbol)\n",
    "    derp = getSymbolInfo(symbol)\n",
    "    if derp != None:\n",
    "        df = pd.DataFrame.from_dict(derp, orient='index').T\n",
    "        main_df = pd.concat([main_df,df], ignore_index = True)\n",
    "main_df.head()"
   ]
  },
  {
   "cell_type": "code",
   "execution_count": 26,
   "id": "22d74d25",
   "metadata": {},
   "outputs": [
    {
     "name": "stdout",
     "output_type": "stream",
     "text": [
      "  symbol sharesOutstanding\n",
      "0      A         302000992\n",
      "1     AA         187103008\n",
      "2    AAC         100000000\n",
      "3    AAC         100000000\n",
      "4   AACG          31376900\n",
      "5   AADI          20894000\n"
     ]
    }
   ],
   "source": [
    "print(main_df[['symbol','sharesOutstanding']])"
   ]
  },
  {
   "cell_type": "code",
   "execution_count": 12,
   "id": "7420596d",
   "metadata": {},
   "outputs": [],
   "source": [
    "t1_df = pd.DataFrame({'Symbol': ['GME'], \n",
    "                     'Cap': [213455612]})\n",
    "t2_df = pd.DataFrame({'Symbol': ['GME'], \n",
    "                     'Cap': [213455612],\n",
    "                     'TextString ': ['Mytext']})"
   ]
  },
  {
   "cell_type": "code",
   "execution_count": 13,
   "id": "fcf368e7",
   "metadata": {},
   "outputs": [],
   "source": [
    "testy = pd.concat([t1_df, t2_df], ignore_index=True)"
   ]
  },
  {
   "cell_type": "code",
   "execution_count": 14,
   "id": "b48fab1d",
   "metadata": {},
   "outputs": [
    {
     "data": {
      "text/html": [
       "<div>\n",
       "<style scoped>\n",
       "    .dataframe tbody tr th:only-of-type {\n",
       "        vertical-align: middle;\n",
       "    }\n",
       "\n",
       "    .dataframe tbody tr th {\n",
       "        vertical-align: top;\n",
       "    }\n",
       "\n",
       "    .dataframe thead th {\n",
       "        text-align: right;\n",
       "    }\n",
       "</style>\n",
       "<table border=\"1\" class=\"dataframe\">\n",
       "  <thead>\n",
       "    <tr style=\"text-align: right;\">\n",
       "      <th></th>\n",
       "      <th>Symbol</th>\n",
       "      <th>Cap</th>\n",
       "      <th>TextString</th>\n",
       "    </tr>\n",
       "  </thead>\n",
       "  <tbody>\n",
       "    <tr>\n",
       "      <th>1</th>\n",
       "      <td>GME</td>\n",
       "      <td>213455612</td>\n",
       "      <td>Mytext</td>\n",
       "    </tr>\n",
       "  </tbody>\n",
       "</table>\n",
       "</div>"
      ],
      "text/plain": [
       "  Symbol        Cap TextString \n",
       "1    GME  213455612      Mytext"
      ]
     },
     "execution_count": 14,
     "metadata": {},
     "output_type": "execute_result"
    }
   ],
   "source": [
    "testy.dropna()"
   ]
  },
  {
   "cell_type": "code",
   "execution_count": 27,
   "id": "c1e223b7",
   "metadata": {},
   "outputs": [
    {
     "data": {
      "text/plain": [
       "'/home/pookie/git/shorts/notebooks'"
      ]
     },
     "execution_count": 27,
     "metadata": {},
     "output_type": "execute_result"
    }
   ],
   "source": [
    "pwd"
   ]
  },
  {
   "cell_type": "code",
   "execution_count": 29,
   "id": "b37ab8c8",
   "metadata": {},
   "outputs": [],
   "source": [
    "path = '/home/pookie/git/shorts/FastSorting/stockdata'\n",
    "dd = pd.read_csv(path+'/CNMS_data.csv')"
   ]
  },
  {
   "cell_type": "code",
   "execution_count": 31,
   "id": "75e08c38",
   "metadata": {},
   "outputs": [
    {
     "data": {
      "text/plain": [
       "0    302000992\n",
       "1    187103008\n",
       "Name: sharesOutstanding, dtype: int64"
      ]
     },
     "execution_count": 31,
     "metadata": {},
     "output_type": "execute_result"
    }
   ],
   "source": [
    "dd['sharesOutstanding']"
   ]
  },
  {
   "cell_type": "code",
   "execution_count": null,
   "id": "49fa2181",
   "metadata": {},
   "outputs": [],
   "source": []
  }
 ],
 "metadata": {
  "kernelspec": {
   "display_name": "Python 3 (ipykernel)",
   "language": "python",
   "name": "python3"
  },
  "language_info": {
   "codemirror_mode": {
    "name": "ipython",
    "version": 3
   },
   "file_extension": ".py",
   "mimetype": "text/x-python",
   "name": "python",
   "nbconvert_exporter": "python",
   "pygments_lexer": "ipython3",
   "version": "3.8.11"
  }
 },
 "nbformat": 4,
 "nbformat_minor": 5
}
