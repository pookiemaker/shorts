{
 "cells": [
  {
   "cell_type": "code",
   "execution_count": 2,
   "id": "9b217b36",
   "metadata": {},
   "outputs": [],
   "source": [
    "import os"
   ]
  },
  {
   "cell_type": "code",
   "execution_count": 3,
   "id": "a7159120",
   "metadata": {},
   "outputs": [
    {
     "name": "stdout",
     "output_type": "stream",
     "text": [
      "path: symboldata/GME_data\n"
     ]
    }
   ],
   "source": [
    "symbol ='GME'\n",
    "exchanges   = ['CNMS', 'FNQC', 'FNRA', 'FNSQ', 'FNYX', 'FORF']\n",
    "parent_dir = 'symboldata'\n",
    "output_dir  = symbol+'_data' # this can be changed, but this is what I use.\n",
    "\n",
    "path = os.path.join(parent_dir, output_dir)\n",
    "\n",
    "print('path: {}'.format(path))\n",
    "try:\n",
    "    os.makedirs(path)\n",
    "except:\n",
    "    print('Path already exists')\n",
    "\n",
    "shortdata = 'shortdata'\n"
   ]
  },
  {
   "cell_type": "code",
   "execution_count": 4,
   "id": "ef80c84a",
   "metadata": {},
   "outputs": [
    {
     "name": "stdout",
     "output_type": "stream",
     "text": [
      "CNMS\n",
      "FNQC\n",
      "FNRA\n",
      "FNSQ\n",
      "FNYX\n",
      "FORF\n"
     ]
    }
   ],
   "source": [
    "exh = exchanges[0]\n",
    "\n",
    "    "
   ]
  },
  {
   "cell_type": "code",
   "execution_count": 5,
   "id": "e34c33e0",
   "metadata": {},
   "outputs": [
    {
     "name": "stdout",
     "output_type": "stream",
     "text": [
      "\u001b[0m\u001b[01;34mshortdata\u001b[0m/  \u001b[01;34msymboldata\u001b[0m/  Untitled.ipynb\r\n"
     ]
    }
   ],
   "source": [
    "ls"
   ]
  },
  {
   "cell_type": "code",
   "execution_count": 7,
   "id": "fabd8948",
   "metadata": {},
   "outputs": [
    {
     "name": "stdout",
     "output_type": "stream",
     "text": [
      "/home/pookie/git/shorts/notebooks/shortdata\n"
     ]
    }
   ],
   "source": [
    "cd shortdata/\n"
   ]
  },
  {
   "cell_type": "code",
   "execution_count": 8,
   "id": "25bc91a4",
   "metadata": {},
   "outputs": [
    {
     "name": "stdout",
     "output_type": "stream",
     "text": [
      "\u001b[0m\u001b[01;34mCNMS\u001b[0m/  \u001b[01;34mFNQC\u001b[0m/  \u001b[01;34mFNRA\u001b[0m/  \u001b[01;34mFNSQ\u001b[0m/  \u001b[01;34mFNYX\u001b[0m/  \u001b[01;34mFORF\u001b[0m/\r\n"
     ]
    }
   ],
   "source": [
    "ls"
   ]
  },
  {
   "cell_type": "code",
   "execution_count": 9,
   "id": "c933fbff",
   "metadata": {},
   "outputs": [
    {
     "name": "stdout",
     "output_type": "stream",
     "text": [
      "/home/pookie/git/shorts/notebooks/shortdata/CNMS\n"
     ]
    }
   ],
   "source": [
    "cd CNMS/"
   ]
  },
  {
   "cell_type": "code",
   "execution_count": 10,
   "id": "effe0462",
   "metadata": {},
   "outputs": [
    {
     "name": "stdout",
     "output_type": "stream",
     "text": [
      "CNMSshvol20200102.txt  CNMSshvol20211210.txt  CNMSshvol20211230.txt\r\n",
      "CNMSshvol20200103.txt  CNMSshvol20211213.txt  CNMSshvol20211231.txt\r\n",
      "CNMSshvol20200106.txt  CNMSshvol20211214.txt  CNMSshvol20220103.txt\r\n",
      "CNMSshvol20200107.txt  CNMSshvol20211215.txt  CNMSshvol20220104.txt\r\n",
      "CNMSshvol20200108.txt  CNMSshvol20211216.txt  CNMSshvol20220105.txt\r\n",
      "CNMSshvol20200109.txt  CNMSshvol20211217.txt  CNMSshvol20220106.txt\r\n",
      "CNMSshvol20211201.txt  CNMSshvol20211220.txt  CNMSshvol20220107.txt\r\n",
      "CNMSshvol20211202.txt  CNMSshvol20211221.txt  CNMSshvol20220110.txt\r\n",
      "CNMSshvol20211203.txt  CNMSshvol20211222.txt  CNMSshvol20220111.txt\r\n",
      "CNMSshvol20211206.txt  CNMSshvol20211223.txt  CNMSshvol20220112.txt\r\n",
      "CNMSshvol20211207.txt  CNMSshvol20211227.txt  CNMSshvol20220113.txt\r\n",
      "CNMSshvol20211208.txt  CNMSshvol20211228.txt\r\n",
      "CNMSshvol20211209.txt  CNMSshvol20211229.txt\r\n"
     ]
    }
   ],
   "source": [
    "ls"
   ]
  },
  {
   "cell_type": "code",
   "execution_count": null,
   "id": "6ca1cde2",
   "metadata": {},
   "outputs": [],
   "source": []
  }
 ],
 "metadata": {
  "kernelspec": {
   "display_name": "Python 3 (ipykernel)",
   "language": "python",
   "name": "python3"
  },
  "language_info": {
   "codemirror_mode": {
    "name": "ipython",
    "version": 3
   },
   "file_extension": ".py",
   "mimetype": "text/x-python",
   "name": "python",
   "nbconvert_exporter": "python",
   "pygments_lexer": "ipython3",
   "version": "3.8.11"
  }
 },
 "nbformat": 4,
 "nbformat_minor": 5
}
